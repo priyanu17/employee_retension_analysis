{
  "nbformat": 4,
  "nbformat_minor": 0,
  "metadata": {
    "colab": {
      "name": "14_2/7/20_self_Employee_Retention_Analysis.ipynb",
      "provenance": [],
      "collapsed_sections": [],
      "authorship_tag": "ABX9TyOfovr2MMvBDVjg/40ZtSaf",
      "include_colab_link": true
    },
    "kernelspec": {
      "name": "python3",
      "display_name": "Python 3"
    }
  },
  "cells": [
    {
      "cell_type": "markdown",
      "metadata": {
        "id": "view-in-github",
        "colab_type": "text"
      },
      "source": [
        "<a href=\"https://colab.research.google.com/github/priyanu17/employee_retension_analysis/blob/master/Employee_Retention_Analysis.ipynb\" target=\"_parent\"><img src=\"https://colab.research.google.com/assets/colab-badge.svg\" alt=\"Open In Colab\"/></a>"
      ]
    },
    {
      "cell_type": "code",
      "metadata": {
        "id": "iLKmiqVBixQo",
        "colab_type": "code",
        "colab": {}
      },
      "source": [
        "import warnings\n",
        "warnings.filterwarnings(\"ignore\")"
      ],
      "execution_count": 380,
      "outputs": []
    },
    {
      "cell_type": "code",
      "metadata": {
        "id": "QTiyCPxDKTCj",
        "colab_type": "code",
        "colab": {}
      },
      "source": [
        "import numpy as np\n",
        "import pandas as pd\n",
        "import matplotlib.pyplot as plt\n",
        "import seaborn as sns"
      ],
      "execution_count": 381,
      "outputs": []
    },
    {
      "cell_type": "code",
      "metadata": {
        "id": "1OYMpbCJKmQt",
        "colab_type": "code",
        "colab": {}
      },
      "source": [
        "hr_data = pd.read_csv(\"Case_Study_1_hr_data.csv\")"
      ],
      "execution_count": 382,
      "outputs": []
    },
    {
      "cell_type": "code",
      "metadata": {
        "id": "8A3Q6vvgYZ2C",
        "colab_type": "code",
        "colab": {
          "base_uri": "https://localhost:8080/",
          "height": 343
        },
        "outputId": "ea4548da-3c3a-4542-aaa3-d07bf9fbc6c8"
      },
      "source": [
        "# head of dataset\n",
        "hr_data.head(10)"
      ],
      "execution_count": 383,
      "outputs": [
        {
          "output_type": "execute_result",
          "data": {
            "text/html": [
              "<div>\n",
              "<style scoped>\n",
              "    .dataframe tbody tr th:only-of-type {\n",
              "        vertical-align: middle;\n",
              "    }\n",
              "\n",
              "    .dataframe tbody tr th {\n",
              "        vertical-align: top;\n",
              "    }\n",
              "\n",
              "    .dataframe thead th {\n",
              "        text-align: right;\n",
              "    }\n",
              "</style>\n",
              "<table border=\"1\" class=\"dataframe\">\n",
              "  <thead>\n",
              "    <tr style=\"text-align: right;\">\n",
              "      <th></th>\n",
              "      <th>employee_id</th>\n",
              "      <th>number_project</th>\n",
              "      <th>average_montly_hours</th>\n",
              "      <th>time_spend_company</th>\n",
              "      <th>Work_accident</th>\n",
              "      <th>left</th>\n",
              "      <th>promotion_last_5years</th>\n",
              "      <th>department</th>\n",
              "      <th>salary</th>\n",
              "    </tr>\n",
              "  </thead>\n",
              "  <tbody>\n",
              "    <tr>\n",
              "      <th>0</th>\n",
              "      <td>1003</td>\n",
              "      <td>2</td>\n",
              "      <td>157</td>\n",
              "      <td>3</td>\n",
              "      <td>0</td>\n",
              "      <td>1</td>\n",
              "      <td>0</td>\n",
              "      <td>sales</td>\n",
              "      <td>low</td>\n",
              "    </tr>\n",
              "    <tr>\n",
              "      <th>1</th>\n",
              "      <td>1005</td>\n",
              "      <td>5</td>\n",
              "      <td>262</td>\n",
              "      <td>6</td>\n",
              "      <td>0</td>\n",
              "      <td>1</td>\n",
              "      <td>0</td>\n",
              "      <td>sales</td>\n",
              "      <td>medium</td>\n",
              "    </tr>\n",
              "    <tr>\n",
              "      <th>2</th>\n",
              "      <td>1486</td>\n",
              "      <td>7</td>\n",
              "      <td>272</td>\n",
              "      <td>4</td>\n",
              "      <td>0</td>\n",
              "      <td>1</td>\n",
              "      <td>0</td>\n",
              "      <td>sales</td>\n",
              "      <td>medium</td>\n",
              "    </tr>\n",
              "    <tr>\n",
              "      <th>3</th>\n",
              "      <td>1038</td>\n",
              "      <td>5</td>\n",
              "      <td>223</td>\n",
              "      <td>5</td>\n",
              "      <td>0</td>\n",
              "      <td>1</td>\n",
              "      <td>0</td>\n",
              "      <td>sales</td>\n",
              "      <td>low</td>\n",
              "    </tr>\n",
              "    <tr>\n",
              "      <th>4</th>\n",
              "      <td>1057</td>\n",
              "      <td>2</td>\n",
              "      <td>159</td>\n",
              "      <td>3</td>\n",
              "      <td>0</td>\n",
              "      <td>1</td>\n",
              "      <td>0</td>\n",
              "      <td>sales</td>\n",
              "      <td>low</td>\n",
              "    </tr>\n",
              "    <tr>\n",
              "      <th>5</th>\n",
              "      <td>1060</td>\n",
              "      <td>2</td>\n",
              "      <td>153</td>\n",
              "      <td>3</td>\n",
              "      <td>0</td>\n",
              "      <td>1</td>\n",
              "      <td>0</td>\n",
              "      <td>sales</td>\n",
              "      <td>low</td>\n",
              "    </tr>\n",
              "    <tr>\n",
              "      <th>6</th>\n",
              "      <td>1061</td>\n",
              "      <td>6</td>\n",
              "      <td>247</td>\n",
              "      <td>4</td>\n",
              "      <td>0</td>\n",
              "      <td>1</td>\n",
              "      <td>0</td>\n",
              "      <td>sales</td>\n",
              "      <td>low</td>\n",
              "    </tr>\n",
              "    <tr>\n",
              "      <th>7</th>\n",
              "      <td>1576</td>\n",
              "      <td>5</td>\n",
              "      <td>259</td>\n",
              "      <td>5</td>\n",
              "      <td>0</td>\n",
              "      <td>1</td>\n",
              "      <td>0</td>\n",
              "      <td>sales</td>\n",
              "      <td>low</td>\n",
              "    </tr>\n",
              "    <tr>\n",
              "      <th>8</th>\n",
              "      <td>1752</td>\n",
              "      <td>5</td>\n",
              "      <td>224</td>\n",
              "      <td>5</td>\n",
              "      <td>0</td>\n",
              "      <td>1</td>\n",
              "      <td>0</td>\n",
              "      <td>sales</td>\n",
              "      <td>low</td>\n",
              "    </tr>\n",
              "    <tr>\n",
              "      <th>9</th>\n",
              "      <td>1988</td>\n",
              "      <td>2</td>\n",
              "      <td>142</td>\n",
              "      <td>3</td>\n",
              "      <td>0</td>\n",
              "      <td>1</td>\n",
              "      <td>0</td>\n",
              "      <td>sales</td>\n",
              "      <td>low</td>\n",
              "    </tr>\n",
              "  </tbody>\n",
              "</table>\n",
              "</div>"
            ],
            "text/plain": [
              "   employee_id  number_project  ...  department  salary\n",
              "0         1003               2  ...       sales     low\n",
              "1         1005               5  ...       sales  medium\n",
              "2         1486               7  ...       sales  medium\n",
              "3         1038               5  ...       sales     low\n",
              "4         1057               2  ...       sales     low\n",
              "5         1060               2  ...       sales     low\n",
              "6         1061               6  ...       sales     low\n",
              "7         1576               5  ...       sales     low\n",
              "8         1752               5  ...       sales     low\n",
              "9         1988               2  ...       sales     low\n",
              "\n",
              "[10 rows x 9 columns]"
            ]
          },
          "metadata": {
            "tags": []
          },
          "execution_count": 383
        }
      ]
    },
    {
      "cell_type": "code",
      "metadata": {
        "id": "PhE6EpE5aocK",
        "colab_type": "code",
        "colab": {
          "base_uri": "https://localhost:8080/",
          "height": 343
        },
        "outputId": "d7e56365-a33e-4ae8-bf7a-2c7195eb8e82"
      },
      "source": [
        "# last 10 rows:\n",
        "hr_data.tail(10)"
      ],
      "execution_count": 384,
      "outputs": [
        {
          "output_type": "execute_result",
          "data": {
            "text/html": [
              "<div>\n",
              "<style scoped>\n",
              "    .dataframe tbody tr th:only-of-type {\n",
              "        vertical-align: middle;\n",
              "    }\n",
              "\n",
              "    .dataframe tbody tr th {\n",
              "        vertical-align: top;\n",
              "    }\n",
              "\n",
              "    .dataframe thead th {\n",
              "        text-align: right;\n",
              "    }\n",
              "</style>\n",
              "<table border=\"1\" class=\"dataframe\">\n",
              "  <thead>\n",
              "    <tr style=\"text-align: right;\">\n",
              "      <th></th>\n",
              "      <th>employee_id</th>\n",
              "      <th>number_project</th>\n",
              "      <th>average_montly_hours</th>\n",
              "      <th>time_spend_company</th>\n",
              "      <th>Work_accident</th>\n",
              "      <th>left</th>\n",
              "      <th>promotion_last_5years</th>\n",
              "      <th>department</th>\n",
              "      <th>salary</th>\n",
              "    </tr>\n",
              "  </thead>\n",
              "  <tbody>\n",
              "    <tr>\n",
              "      <th>14989</th>\n",
              "      <td>87638</td>\n",
              "      <td>2</td>\n",
              "      <td>159</td>\n",
              "      <td>3</td>\n",
              "      <td>1</td>\n",
              "      <td>1</td>\n",
              "      <td>0</td>\n",
              "      <td>technical</td>\n",
              "      <td>low</td>\n",
              "    </tr>\n",
              "    <tr>\n",
              "      <th>14990</th>\n",
              "      <td>87639</td>\n",
              "      <td>5</td>\n",
              "      <td>228</td>\n",
              "      <td>5</td>\n",
              "      <td>1</td>\n",
              "      <td>1</td>\n",
              "      <td>0</td>\n",
              "      <td>support</td>\n",
              "      <td>low</td>\n",
              "    </tr>\n",
              "    <tr>\n",
              "      <th>14991</th>\n",
              "      <td>87654</td>\n",
              "      <td>6</td>\n",
              "      <td>257</td>\n",
              "      <td>4</td>\n",
              "      <td>0</td>\n",
              "      <td>1</td>\n",
              "      <td>0</td>\n",
              "      <td>support</td>\n",
              "      <td>low</td>\n",
              "    </tr>\n",
              "    <tr>\n",
              "      <th>14992</th>\n",
              "      <td>87656</td>\n",
              "      <td>2</td>\n",
              "      <td>155</td>\n",
              "      <td>3</td>\n",
              "      <td>0</td>\n",
              "      <td>1</td>\n",
              "      <td>0</td>\n",
              "      <td>support</td>\n",
              "      <td>low</td>\n",
              "    </tr>\n",
              "    <tr>\n",
              "      <th>14993</th>\n",
              "      <td>87661</td>\n",
              "      <td>6</td>\n",
              "      <td>293</td>\n",
              "      <td>6</td>\n",
              "      <td>0</td>\n",
              "      <td>1</td>\n",
              "      <td>0</td>\n",
              "      <td>support</td>\n",
              "      <td>low</td>\n",
              "    </tr>\n",
              "    <tr>\n",
              "      <th>14994</th>\n",
              "      <td>87670</td>\n",
              "      <td>2</td>\n",
              "      <td>151</td>\n",
              "      <td>3</td>\n",
              "      <td>0</td>\n",
              "      <td>1</td>\n",
              "      <td>0</td>\n",
              "      <td>support</td>\n",
              "      <td>low</td>\n",
              "    </tr>\n",
              "    <tr>\n",
              "      <th>14995</th>\n",
              "      <td>87673</td>\n",
              "      <td>2</td>\n",
              "      <td>160</td>\n",
              "      <td>3</td>\n",
              "      <td>0</td>\n",
              "      <td>1</td>\n",
              "      <td>0</td>\n",
              "      <td>support</td>\n",
              "      <td>low</td>\n",
              "    </tr>\n",
              "    <tr>\n",
              "      <th>14996</th>\n",
              "      <td>87679</td>\n",
              "      <td>2</td>\n",
              "      <td>143</td>\n",
              "      <td>3</td>\n",
              "      <td>0</td>\n",
              "      <td>1</td>\n",
              "      <td>0</td>\n",
              "      <td>support</td>\n",
              "      <td>low</td>\n",
              "    </tr>\n",
              "    <tr>\n",
              "      <th>14997</th>\n",
              "      <td>87681</td>\n",
              "      <td>6</td>\n",
              "      <td>280</td>\n",
              "      <td>4</td>\n",
              "      <td>0</td>\n",
              "      <td>1</td>\n",
              "      <td>0</td>\n",
              "      <td>support</td>\n",
              "      <td>low</td>\n",
              "    </tr>\n",
              "    <tr>\n",
              "      <th>14998</th>\n",
              "      <td>87684</td>\n",
              "      <td>2</td>\n",
              "      <td>158</td>\n",
              "      <td>3</td>\n",
              "      <td>0</td>\n",
              "      <td>1</td>\n",
              "      <td>0</td>\n",
              "      <td>support</td>\n",
              "      <td>low</td>\n",
              "    </tr>\n",
              "  </tbody>\n",
              "</table>\n",
              "</div>"
            ],
            "text/plain": [
              "       employee_id  number_project  ...  department  salary\n",
              "14989        87638               2  ...   technical     low\n",
              "14990        87639               5  ...     support     low\n",
              "14991        87654               6  ...     support     low\n",
              "14992        87656               2  ...     support     low\n",
              "14993        87661               6  ...     support     low\n",
              "14994        87670               2  ...     support     low\n",
              "14995        87673               2  ...     support     low\n",
              "14996        87679               2  ...     support     low\n",
              "14997        87681               6  ...     support     low\n",
              "14998        87684               2  ...     support     low\n",
              "\n",
              "[10 rows x 9 columns]"
            ]
          },
          "metadata": {
            "tags": []
          },
          "execution_count": 384
        }
      ]
    },
    {
      "cell_type": "code",
      "metadata": {
        "id": "BnsxzpdYYbag",
        "colab_type": "code",
        "colab": {
          "base_uri": "https://localhost:8080/",
          "height": 34
        },
        "outputId": "79e0b1d9-e19d-4854-9f82-5b6ba7153144"
      },
      "source": [
        "# shape of data:\n",
        "hr_data.shape"
      ],
      "execution_count": 385,
      "outputs": [
        {
          "output_type": "execute_result",
          "data": {
            "text/plain": [
              "(14999, 9)"
            ]
          },
          "metadata": {
            "tags": []
          },
          "execution_count": 385
        }
      ]
    },
    {
      "cell_type": "code",
      "metadata": {
        "id": "b_W355FWYle1",
        "colab_type": "code",
        "colab": {}
      },
      "source": [
        "# data contains 14999 rows and 9 columns"
      ],
      "execution_count": 386,
      "outputs": []
    },
    {
      "cell_type": "code",
      "metadata": {
        "id": "bEVxk9iYYqME",
        "colab_type": "code",
        "colab": {
          "base_uri": "https://localhost:8080/",
          "height": 286
        },
        "outputId": "53b28727-4662-4fa0-e2d4-f6ae550af40f"
      },
      "source": [
        "# info on dataset:\n",
        "hr_data.info()"
      ],
      "execution_count": 387,
      "outputs": [
        {
          "output_type": "stream",
          "text": [
            "<class 'pandas.core.frame.DataFrame'>\n",
            "RangeIndex: 14999 entries, 0 to 14998\n",
            "Data columns (total 9 columns):\n",
            " #   Column                 Non-Null Count  Dtype \n",
            "---  ------                 --------------  ----- \n",
            " 0   employee_id            14999 non-null  int64 \n",
            " 1   number_project         14999 non-null  int64 \n",
            " 2   average_montly_hours   14999 non-null  int64 \n",
            " 3   time_spend_company     14999 non-null  int64 \n",
            " 4   Work_accident          14999 non-null  int64 \n",
            " 5   left                   14999 non-null  int64 \n",
            " 6   promotion_last_5years  14999 non-null  int64 \n",
            " 7   department             14999 non-null  object\n",
            " 8   salary                 14999 non-null  object\n",
            "dtypes: int64(7), object(2)\n",
            "memory usage: 1.0+ MB\n"
          ],
          "name": "stdout"
        }
      ]
    },
    {
      "cell_type": "code",
      "metadata": {
        "id": "TFEZEiXxYs0Z",
        "colab_type": "code",
        "colab": {
          "base_uri": "https://localhost:8080/",
          "height": 254
        },
        "outputId": "d808d945-34f8-4d78-9520-74b8022108fb"
      },
      "source": [
        "# describe on data:\n",
        "hr_data.describe().transpose()"
      ],
      "execution_count": 388,
      "outputs": [
        {
          "output_type": "execute_result",
          "data": {
            "text/html": [
              "<div>\n",
              "<style scoped>\n",
              "    .dataframe tbody tr th:only-of-type {\n",
              "        vertical-align: middle;\n",
              "    }\n",
              "\n",
              "    .dataframe tbody tr th {\n",
              "        vertical-align: top;\n",
              "    }\n",
              "\n",
              "    .dataframe thead th {\n",
              "        text-align: right;\n",
              "    }\n",
              "</style>\n",
              "<table border=\"1\" class=\"dataframe\">\n",
              "  <thead>\n",
              "    <tr style=\"text-align: right;\">\n",
              "      <th></th>\n",
              "      <th>count</th>\n",
              "      <th>mean</th>\n",
              "      <th>std</th>\n",
              "      <th>min</th>\n",
              "      <th>25%</th>\n",
              "      <th>50%</th>\n",
              "      <th>75%</th>\n",
              "      <th>max</th>\n",
              "    </tr>\n",
              "  </thead>\n",
              "  <tbody>\n",
              "    <tr>\n",
              "      <th>employee_id</th>\n",
              "      <td>14999.0</td>\n",
              "      <td>45424.627575</td>\n",
              "      <td>25915.900127</td>\n",
              "      <td>1003.0</td>\n",
              "      <td>22872.5</td>\n",
              "      <td>45448.0</td>\n",
              "      <td>67480.5</td>\n",
              "      <td>99815.0</td>\n",
              "    </tr>\n",
              "    <tr>\n",
              "      <th>number_project</th>\n",
              "      <td>14999.0</td>\n",
              "      <td>3.803054</td>\n",
              "      <td>1.232592</td>\n",
              "      <td>2.0</td>\n",
              "      <td>3.0</td>\n",
              "      <td>4.0</td>\n",
              "      <td>5.0</td>\n",
              "      <td>7.0</td>\n",
              "    </tr>\n",
              "    <tr>\n",
              "      <th>average_montly_hours</th>\n",
              "      <td>14999.0</td>\n",
              "      <td>201.050337</td>\n",
              "      <td>49.943099</td>\n",
              "      <td>96.0</td>\n",
              "      <td>156.0</td>\n",
              "      <td>200.0</td>\n",
              "      <td>245.0</td>\n",
              "      <td>310.0</td>\n",
              "    </tr>\n",
              "    <tr>\n",
              "      <th>time_spend_company</th>\n",
              "      <td>14999.0</td>\n",
              "      <td>3.498233</td>\n",
              "      <td>1.460136</td>\n",
              "      <td>2.0</td>\n",
              "      <td>3.0</td>\n",
              "      <td>3.0</td>\n",
              "      <td>4.0</td>\n",
              "      <td>10.0</td>\n",
              "    </tr>\n",
              "    <tr>\n",
              "      <th>Work_accident</th>\n",
              "      <td>14999.0</td>\n",
              "      <td>0.144610</td>\n",
              "      <td>0.351719</td>\n",
              "      <td>0.0</td>\n",
              "      <td>0.0</td>\n",
              "      <td>0.0</td>\n",
              "      <td>0.0</td>\n",
              "      <td>1.0</td>\n",
              "    </tr>\n",
              "    <tr>\n",
              "      <th>left</th>\n",
              "      <td>14999.0</td>\n",
              "      <td>0.238083</td>\n",
              "      <td>0.425924</td>\n",
              "      <td>0.0</td>\n",
              "      <td>0.0</td>\n",
              "      <td>0.0</td>\n",
              "      <td>0.0</td>\n",
              "      <td>1.0</td>\n",
              "    </tr>\n",
              "    <tr>\n",
              "      <th>promotion_last_5years</th>\n",
              "      <td>14999.0</td>\n",
              "      <td>0.021268</td>\n",
              "      <td>0.144281</td>\n",
              "      <td>0.0</td>\n",
              "      <td>0.0</td>\n",
              "      <td>0.0</td>\n",
              "      <td>0.0</td>\n",
              "      <td>1.0</td>\n",
              "    </tr>\n",
              "  </tbody>\n",
              "</table>\n",
              "</div>"
            ],
            "text/plain": [
              "                         count          mean  ...      75%      max\n",
              "employee_id            14999.0  45424.627575  ...  67480.5  99815.0\n",
              "number_project         14999.0      3.803054  ...      5.0      7.0\n",
              "average_montly_hours   14999.0    201.050337  ...    245.0    310.0\n",
              "time_spend_company     14999.0      3.498233  ...      4.0     10.0\n",
              "Work_accident          14999.0      0.144610  ...      0.0      1.0\n",
              "left                   14999.0      0.238083  ...      0.0      1.0\n",
              "promotion_last_5years  14999.0      0.021268  ...      0.0      1.0\n",
              "\n",
              "[7 rows x 8 columns]"
            ]
          },
          "metadata": {
            "tags": []
          },
          "execution_count": 388
        }
      ]
    },
    {
      "cell_type": "code",
      "metadata": {
        "id": "6iHwWllRY1dE",
        "colab_type": "code",
        "colab": {
          "base_uri": "https://localhost:8080/",
          "height": 185
        },
        "outputId": "434cc92a-dc7e-4d7c-a20c-40aab59728be"
      },
      "source": [
        "# datatypes:\n",
        "hr_data.dtypes"
      ],
      "execution_count": 389,
      "outputs": [
        {
          "output_type": "execute_result",
          "data": {
            "text/plain": [
              "employee_id               int64\n",
              "number_project            int64\n",
              "average_montly_hours      int64\n",
              "time_spend_company        int64\n",
              "Work_accident             int64\n",
              "left                      int64\n",
              "promotion_last_5years     int64\n",
              "department               object\n",
              "salary                   object\n",
              "dtype: object"
            ]
          },
          "metadata": {
            "tags": []
          },
          "execution_count": 389
        }
      ]
    },
    {
      "cell_type": "code",
      "metadata": {
        "id": "R3NfaEA4bKPI",
        "colab_type": "code",
        "colab": {
          "base_uri": "https://localhost:8080/",
          "height": 34
        },
        "outputId": "59428855-653b-4b5c-b81c-12aa514376b0"
      },
      "source": [
        "# All numeric columns except for last two\n",
        "hr_data.select_dtypes(include = ['object']).columns"
      ],
      "execution_count": 390,
      "outputs": [
        {
          "output_type": "execute_result",
          "data": {
            "text/plain": [
              "Index(['department', 'salary'], dtype='object')"
            ]
          },
          "metadata": {
            "tags": []
          },
          "execution_count": 390
        }
      ]
    },
    {
      "cell_type": "code",
      "metadata": {
        "id": "aaKZHJ6UbuQm",
        "colab_type": "code",
        "colab": {
          "base_uri": "https://localhost:8080/",
          "height": 84
        },
        "outputId": "74f29695-2eba-4c55-fdab-b3f8cd9d3746"
      },
      "source": [
        "# columns in the dataset:\n",
        "hr_data.columns"
      ],
      "execution_count": 391,
      "outputs": [
        {
          "output_type": "execute_result",
          "data": {
            "text/plain": [
              "Index(['employee_id', 'number_project', 'average_montly_hours',\n",
              "       'time_spend_company', 'Work_accident', 'left', 'promotion_last_5years',\n",
              "       'department', 'salary'],\n",
              "      dtype='object')"
            ]
          },
          "metadata": {
            "tags": []
          },
          "execution_count": 391
        }
      ]
    },
    {
      "cell_type": "code",
      "metadata": {
        "id": "Wf2knCtPbQ2C",
        "colab_type": "code",
        "colab": {}
      },
      "source": [
        "# moving target column to the end:\n",
        "cols_at_end = [\"left\"]\n",
        "hr_data = hr_data[[c for c in hr_data if c not in cols_at_end] \n",
        "        + [c for c in cols_at_end if c in hr_data]]"
      ],
      "execution_count": 392,
      "outputs": []
    },
    {
      "cell_type": "code",
      "metadata": {
        "id": "0FiGgE01bzlU",
        "colab_type": "code",
        "colab": {
          "base_uri": "https://localhost:8080/",
          "height": 195
        },
        "outputId": "ddca2ea1-ac1f-420e-ffd0-304016e602b5"
      },
      "source": [
        "hr_data.head()"
      ],
      "execution_count": 393,
      "outputs": [
        {
          "output_type": "execute_result",
          "data": {
            "text/html": [
              "<div>\n",
              "<style scoped>\n",
              "    .dataframe tbody tr th:only-of-type {\n",
              "        vertical-align: middle;\n",
              "    }\n",
              "\n",
              "    .dataframe tbody tr th {\n",
              "        vertical-align: top;\n",
              "    }\n",
              "\n",
              "    .dataframe thead th {\n",
              "        text-align: right;\n",
              "    }\n",
              "</style>\n",
              "<table border=\"1\" class=\"dataframe\">\n",
              "  <thead>\n",
              "    <tr style=\"text-align: right;\">\n",
              "      <th></th>\n",
              "      <th>employee_id</th>\n",
              "      <th>number_project</th>\n",
              "      <th>average_montly_hours</th>\n",
              "      <th>time_spend_company</th>\n",
              "      <th>Work_accident</th>\n",
              "      <th>promotion_last_5years</th>\n",
              "      <th>department</th>\n",
              "      <th>salary</th>\n",
              "      <th>left</th>\n",
              "    </tr>\n",
              "  </thead>\n",
              "  <tbody>\n",
              "    <tr>\n",
              "      <th>0</th>\n",
              "      <td>1003</td>\n",
              "      <td>2</td>\n",
              "      <td>157</td>\n",
              "      <td>3</td>\n",
              "      <td>0</td>\n",
              "      <td>0</td>\n",
              "      <td>sales</td>\n",
              "      <td>low</td>\n",
              "      <td>1</td>\n",
              "    </tr>\n",
              "    <tr>\n",
              "      <th>1</th>\n",
              "      <td>1005</td>\n",
              "      <td>5</td>\n",
              "      <td>262</td>\n",
              "      <td>6</td>\n",
              "      <td>0</td>\n",
              "      <td>0</td>\n",
              "      <td>sales</td>\n",
              "      <td>medium</td>\n",
              "      <td>1</td>\n",
              "    </tr>\n",
              "    <tr>\n",
              "      <th>2</th>\n",
              "      <td>1486</td>\n",
              "      <td>7</td>\n",
              "      <td>272</td>\n",
              "      <td>4</td>\n",
              "      <td>0</td>\n",
              "      <td>0</td>\n",
              "      <td>sales</td>\n",
              "      <td>medium</td>\n",
              "      <td>1</td>\n",
              "    </tr>\n",
              "    <tr>\n",
              "      <th>3</th>\n",
              "      <td>1038</td>\n",
              "      <td>5</td>\n",
              "      <td>223</td>\n",
              "      <td>5</td>\n",
              "      <td>0</td>\n",
              "      <td>0</td>\n",
              "      <td>sales</td>\n",
              "      <td>low</td>\n",
              "      <td>1</td>\n",
              "    </tr>\n",
              "    <tr>\n",
              "      <th>4</th>\n",
              "      <td>1057</td>\n",
              "      <td>2</td>\n",
              "      <td>159</td>\n",
              "      <td>3</td>\n",
              "      <td>0</td>\n",
              "      <td>0</td>\n",
              "      <td>sales</td>\n",
              "      <td>low</td>\n",
              "      <td>1</td>\n",
              "    </tr>\n",
              "  </tbody>\n",
              "</table>\n",
              "</div>"
            ],
            "text/plain": [
              "   employee_id  number_project  average_montly_hours  ...  department  salary  left\n",
              "0         1003               2                   157  ...       sales     low     1\n",
              "1         1005               5                   262  ...       sales  medium     1\n",
              "2         1486               7                   272  ...       sales  medium     1\n",
              "3         1038               5                   223  ...       sales     low     1\n",
              "4         1057               2                   159  ...       sales     low     1\n",
              "\n",
              "[5 rows x 9 columns]"
            ]
          },
          "metadata": {
            "tags": []
          },
          "execution_count": 393
        }
      ]
    },
    {
      "cell_type": "code",
      "metadata": {
        "id": "M9M5Z96wgA-v",
        "colab_type": "code",
        "colab": {
          "base_uri": "https://localhost:8080/",
          "height": 50
        },
        "outputId": "8c9fe208-ec73-4f46-b646-cd45dfd4a53f"
      },
      "source": [
        "# checking for duplicate rows:\n",
        "hr_data.duplicated(keep = \"first\").value_counts()"
      ],
      "execution_count": 394,
      "outputs": [
        {
          "output_type": "execute_result",
          "data": {
            "text/plain": [
              "False    14999\n",
              "dtype: int64"
            ]
          },
          "metadata": {
            "tags": []
          },
          "execution_count": 394
        }
      ]
    },
    {
      "cell_type": "code",
      "metadata": {
        "id": "4INCpJZKgH8K",
        "colab_type": "code",
        "colab": {}
      },
      "source": [
        "# no duplicate rows are present"
      ],
      "execution_count": 395,
      "outputs": []
    },
    {
      "cell_type": "code",
      "metadata": {
        "id": "FtLc_vx5bzPw",
        "colab_type": "code",
        "colab": {}
      },
      "source": [
        "# fuction to check for constant feature columns in the data\n",
        "def find_constant_features(dataFrame):\n",
        "    const_features = []\n",
        "    for column in list(dataFrame.columns):\n",
        "        if dataFrame[column].unique().size < 2:\n",
        "            const_features.append(column)\n",
        "    return const_features"
      ],
      "execution_count": 396,
      "outputs": []
    },
    {
      "cell_type": "code",
      "metadata": {
        "id": "oxw799mCby20",
        "colab_type": "code",
        "colab": {
          "base_uri": "https://localhost:8080/",
          "height": 34
        },
        "outputId": "9a153464-dedc-43c7-f667-0dfa0e5acc35"
      },
      "source": [
        "# we remove constant feature columns from the dataset,\n",
        "# as correlation with target variable is 0\n",
        "find_constant_features(hr_data)"
      ],
      "execution_count": 397,
      "outputs": [
        {
          "output_type": "execute_result",
          "data": {
            "text/plain": [
              "[]"
            ]
          },
          "metadata": {
            "tags": []
          },
          "execution_count": 397
        }
      ]
    },
    {
      "cell_type": "code",
      "metadata": {
        "id": "S43LkdqQgrXb",
        "colab_type": "code",
        "colab": {}
      },
      "source": [
        "# no constant features found"
      ],
      "execution_count": 398,
      "outputs": []
    },
    {
      "cell_type": "code",
      "metadata": {
        "id": "-HhBrI8Fguup",
        "colab_type": "code",
        "colab": {
          "base_uri": "https://localhost:8080/",
          "height": 185
        },
        "outputId": "7a876a96-1c2d-4269-a40d-6794b4f6c147"
      },
      "source": [
        "# checking for null values:\n",
        "hr_data.isna().sum()"
      ],
      "execution_count": 399,
      "outputs": [
        {
          "output_type": "execute_result",
          "data": {
            "text/plain": [
              "employee_id              0\n",
              "number_project           0\n",
              "average_montly_hours     0\n",
              "time_spend_company       0\n",
              "Work_accident            0\n",
              "promotion_last_5years    0\n",
              "department               0\n",
              "salary                   0\n",
              "left                     0\n",
              "dtype: int64"
            ]
          },
          "metadata": {
            "tags": []
          },
          "execution_count": 399
        }
      ]
    },
    {
      "cell_type": "code",
      "metadata": {
        "id": "YiP7t2K9hewf",
        "colab_type": "code",
        "colab": {}
      },
      "source": [
        "# no null values"
      ],
      "execution_count": 400,
      "outputs": []
    },
    {
      "cell_type": "code",
      "metadata": {
        "id": "5kUgtRpIhkSH",
        "colab_type": "code",
        "colab": {
          "base_uri": "https://localhost:8080/",
          "height": 185
        },
        "outputId": "f7538017-0055-4a7f-9a2d-1b9b9321d544"
      },
      "source": [
        "((hr_data.isna().sum()/len(hr_data))*100).round(2)"
      ],
      "execution_count": 401,
      "outputs": [
        {
          "output_type": "execute_result",
          "data": {
            "text/plain": [
              "employee_id              0.0\n",
              "number_project           0.0\n",
              "average_montly_hours     0.0\n",
              "time_spend_company       0.0\n",
              "Work_accident            0.0\n",
              "promotion_last_5years    0.0\n",
              "department               0.0\n",
              "salary                   0.0\n",
              "left                     0.0\n",
              "dtype: float64"
            ]
          },
          "metadata": {
            "tags": []
          },
          "execution_count": 401
        }
      ]
    },
    {
      "cell_type": "code",
      "metadata": {
        "id": "WCUZJBaXiT-t",
        "colab_type": "code",
        "colab": {}
      },
      "source": [
        "# categorical columns value_counts"
      ],
      "execution_count": 402,
      "outputs": []
    },
    {
      "cell_type": "code",
      "metadata": {
        "id": "xdWr7I23hrGL",
        "colab_type": "code",
        "colab": {
          "base_uri": "https://localhost:8080/",
          "height": 202
        },
        "outputId": "a2cbbb72-bd6b-4808-ae1e-49a281200bb8"
      },
      "source": [
        "hr_data[\"department\"].value_counts()"
      ],
      "execution_count": 403,
      "outputs": [
        {
          "output_type": "execute_result",
          "data": {
            "text/plain": [
              "sales          4140\n",
              "technical      2720\n",
              "support        2229\n",
              "IT             1227\n",
              "product_mng     902\n",
              "marketing       858\n",
              "RandD           787\n",
              "accounting      767\n",
              "hr              739\n",
              "management      630\n",
              "Name: department, dtype: int64"
            ]
          },
          "metadata": {
            "tags": []
          },
          "execution_count": 403
        }
      ]
    },
    {
      "cell_type": "code",
      "metadata": {
        "id": "nJ2qdVhRiMP6",
        "colab_type": "code",
        "colab": {
          "base_uri": "https://localhost:8080/",
          "height": 84
        },
        "outputId": "6704044a-7b7a-4d98-c0c2-2b756756b5e6"
      },
      "source": [
        "hr_data[\"salary\"].value_counts()"
      ],
      "execution_count": 404,
      "outputs": [
        {
          "output_type": "execute_result",
          "data": {
            "text/plain": [
              "low       7316\n",
              "medium    6446\n",
              "high      1237\n",
              "Name: salary, dtype: int64"
            ]
          },
          "metadata": {
            "tags": []
          },
          "execution_count": 404
        }
      ]
    },
    {
      "cell_type": "code",
      "metadata": {
        "id": "zoEq4wPSiXxV",
        "colab_type": "code",
        "colab": {
          "base_uri": "https://localhost:8080/",
          "height": 67
        },
        "outputId": "de5993ca-ce04-4138-ce1a-3f3d38046e8f"
      },
      "source": [
        "# target variable \n",
        "hr_data[\"left\"].value_counts()"
      ],
      "execution_count": 405,
      "outputs": [
        {
          "output_type": "execute_result",
          "data": {
            "text/plain": [
              "0    11428\n",
              "1     3571\n",
              "Name: left, dtype: int64"
            ]
          },
          "metadata": {
            "tags": []
          },
          "execution_count": 405
        }
      ]
    },
    {
      "cell_type": "code",
      "metadata": {
        "id": "YtOdjKuWin_L",
        "colab_type": "code",
        "colab": {
          "base_uri": "https://localhost:8080/",
          "height": 410
        },
        "outputId": "fd97358c-0541-44bb-bfd5-c4c07cd6bdb7"
      },
      "source": [
        "sns.set(style=\"darkgrid\")\n",
        "\n",
        "plt.figure(figsize=(10,6))\n",
        "ax = sns.countplot(x=\"left\", data=hr_data)\n",
        "plt.title('Distribution of target variable')\n",
        "plt.xlabel('0 - Did not lveea | 1 - left the company')\n",
        "plt.ylabel('Frequency')\n",
        "\n",
        "for p in ax.patches:\n",
        "        ax.annotate('{:.0f}'.format(p.get_height()), (p.get_x()+0.1, p.get_height()+50))"
      ],
      "execution_count": 406,
      "outputs": [
        {
          "output_type": "display_data",
          "data": {
            "image/png": "[encoded data removed]",
            "text/plain": [
              "<Figure size 720x432 with 1 Axes>"
            ]
          },
          "metadata": {
            "tags": []
          }
        }
      ]
    },
    {
      "cell_type": "code",
      "metadata": {
        "id": "sHlfKEB9jI-p",
        "colab_type": "code",
        "colab": {
          "base_uri": "https://localhost:8080/",
          "height": 394
        },
        "outputId": "4ae5f708-7b9d-4a6b-a835-d1e3f9b06448"
      },
      "source": [
        "# another plot of the TARGET variable \"left\"\n",
        "\n",
        "sns.set(style=\"darkgrid\")\n",
        "plt.figure(figsize = (12, 6))\n",
        "sns.violinplot(x = hr_data[\"left\"])\n",
        "plt.show()"
      ],
      "execution_count": 407,
      "outputs": [
        {
          "output_type": "display_data",
          "data": {
            "image/png": "[encoded data removed]",
            "text/plain": [
              "<Figure size 864x432 with 1 Axes>"
            ]
          },
          "metadata": {
            "tags": []
          }
        }
      ]
    },
    {
      "cell_type": "code",
      "metadata": {
        "id": "tkjvki23jRsn",
        "colab_type": "code",
        "colab": {
          "base_uri": "https://localhost:8080/",
          "height": 411
        },
        "outputId": "45c35582-a034-471f-de4c-1363aa69d04f"
      },
      "source": [
        "plt.figure(figsize = (7, 7))\n",
        "hr_data[\"left\"].value_counts().plot.pie()\n",
        "plt.show()"
      ],
      "execution_count": 408,
      "outputs": [
        {
          "output_type": "display_data",
          "data": {
            "image/png": "[encoded data removed]",
            "text/plain": [
              "<Figure size 504x504 with 1 Axes>"
            ]
          },
          "metadata": {
            "tags": []
          }
        }
      ]
    },
    {
      "cell_type": "code",
      "metadata": {
        "id": "13WMG085jYOe",
        "colab_type": "code",
        "colab": {}
      },
      "source": [
        "# second dataset:\n",
        "\n",
        "emp_satisfaction_eval = pd.read_excel(\"Case_Study_1_employee_satisfaction_level.xlsx\")"
      ],
      "execution_count": 409,
      "outputs": []
    },
    {
      "cell_type": "code",
      "metadata": {
        "id": "oCwZPDizkT0G",
        "colab_type": "code",
        "colab": {
          "base_uri": "https://localhost:8080/",
          "height": 343
        },
        "outputId": "1aa0550e-d8b3-497c-a1ff-12366d48a106"
      },
      "source": [
        "emp_satisfaction_eval.head(10)"
      ],
      "execution_count": 410,
      "outputs": [
        {
          "output_type": "execute_result",
          "data": {
            "text/html": [
              "<div>\n",
              "<style scoped>\n",
              "    .dataframe tbody tr th:only-of-type {\n",
              "        vertical-align: middle;\n",
              "    }\n",
              "\n",
              "    .dataframe tbody tr th {\n",
              "        vertical-align: top;\n",
              "    }\n",
              "\n",
              "    .dataframe thead th {\n",
              "        text-align: right;\n",
              "    }\n",
              "</style>\n",
              "<table border=\"1\" class=\"dataframe\">\n",
              "  <thead>\n",
              "    <tr style=\"text-align: right;\">\n",
              "      <th></th>\n",
              "      <th>EMPLOYEE #</th>\n",
              "      <th>satisfaction_level</th>\n",
              "      <th>last_evaluation</th>\n",
              "    </tr>\n",
              "  </thead>\n",
              "  <tbody>\n",
              "    <tr>\n",
              "      <th>0</th>\n",
              "      <td>1003</td>\n",
              "      <td>0.38</td>\n",
              "      <td>0.53</td>\n",
              "    </tr>\n",
              "    <tr>\n",
              "      <th>1</th>\n",
              "      <td>1005</td>\n",
              "      <td>0.80</td>\n",
              "      <td>0.86</td>\n",
              "    </tr>\n",
              "    <tr>\n",
              "      <th>2</th>\n",
              "      <td>1486</td>\n",
              "      <td>0.11</td>\n",
              "      <td>0.88</td>\n",
              "    </tr>\n",
              "    <tr>\n",
              "      <th>3</th>\n",
              "      <td>1038</td>\n",
              "      <td>0.72</td>\n",
              "      <td>0.87</td>\n",
              "    </tr>\n",
              "    <tr>\n",
              "      <th>4</th>\n",
              "      <td>1057</td>\n",
              "      <td>0.37</td>\n",
              "      <td>0.52</td>\n",
              "    </tr>\n",
              "    <tr>\n",
              "      <th>5</th>\n",
              "      <td>1060</td>\n",
              "      <td>0.41</td>\n",
              "      <td>0.50</td>\n",
              "    </tr>\n",
              "    <tr>\n",
              "      <th>6</th>\n",
              "      <td>1061</td>\n",
              "      <td>0.10</td>\n",
              "      <td>0.77</td>\n",
              "    </tr>\n",
              "    <tr>\n",
              "      <th>7</th>\n",
              "      <td>1576</td>\n",
              "      <td>0.92</td>\n",
              "      <td>0.85</td>\n",
              "    </tr>\n",
              "    <tr>\n",
              "      <th>8</th>\n",
              "      <td>1752</td>\n",
              "      <td>0.89</td>\n",
              "      <td>1.00</td>\n",
              "    </tr>\n",
              "    <tr>\n",
              "      <th>9</th>\n",
              "      <td>1988</td>\n",
              "      <td>0.42</td>\n",
              "      <td>0.53</td>\n",
              "    </tr>\n",
              "  </tbody>\n",
              "</table>\n",
              "</div>"
            ],
            "text/plain": [
              "   EMPLOYEE #  satisfaction_level  last_evaluation\n",
              "0        1003                0.38             0.53\n",
              "1        1005                0.80             0.86\n",
              "2        1486                0.11             0.88\n",
              "3        1038                0.72             0.87\n",
              "4        1057                0.37             0.52\n",
              "5        1060                0.41             0.50\n",
              "6        1061                0.10             0.77\n",
              "7        1576                0.92             0.85\n",
              "8        1752                0.89             1.00\n",
              "9        1988                0.42             0.53"
            ]
          },
          "metadata": {
            "tags": []
          },
          "execution_count": 410
        }
      ]
    },
    {
      "cell_type": "code",
      "metadata": {
        "id": "cf6-HemwklzG",
        "colab_type": "code",
        "colab": {
          "base_uri": "https://localhost:8080/",
          "height": 34
        },
        "outputId": "aa3400ac-6487-42e3-cff5-f054a9c52380"
      },
      "source": [
        "emp_satisfaction_eval.shape"
      ],
      "execution_count": 411,
      "outputs": [
        {
          "output_type": "execute_result",
          "data": {
            "text/plain": [
              "(14999, 3)"
            ]
          },
          "metadata": {
            "tags": []
          },
          "execution_count": 411
        }
      ]
    },
    {
      "cell_type": "code",
      "metadata": {
        "id": "Wvkth6et5Hek",
        "colab_type": "code",
        "colab": {
          "base_uri": "https://localhost:8080/",
          "height": 34
        },
        "outputId": "8bb6fb1f-a0e4-4462-cd13-96f7c2ad0851"
      },
      "source": [
        "emp_satisfaction_eval.columns "
      ],
      "execution_count": 412,
      "outputs": [
        {
          "output_type": "execute_result",
          "data": {
            "text/plain": [
              "Index(['EMPLOYEE #', 'satisfaction_level', 'last_evaluation'], dtype='object')"
            ]
          },
          "metadata": {
            "tags": []
          },
          "execution_count": 412
        }
      ]
    },
    {
      "cell_type": "code",
      "metadata": {
        "id": "qlZTEIHJkp8I",
        "colab_type": "code",
        "colab": {}
      },
      "source": [
        "# same number of rows as in the previous dataset"
      ],
      "execution_count": 413,
      "outputs": []
    },
    {
      "cell_type": "code",
      "metadata": {
        "id": "Hm7wHqPXkuJ7",
        "colab_type": "code",
        "colab": {}
      },
      "source": [
        "# merge two tables "
      ],
      "execution_count": 414,
      "outputs": []
    },
    {
      "cell_type": "code",
      "metadata": {
        "id": "V_E91rpF0prr",
        "colab_type": "code",
        "colab": {}
      },
      "source": [
        "merge_data = pd.merge(hr_data, emp_satisfaction_eval, left_on = 'employee_id', right_on = 'EMPLOYEE #')"
      ],
      "execution_count": 415,
      "outputs": []
    },
    {
      "cell_type": "code",
      "metadata": {
        "id": "3IVM0c-75kK6",
        "colab_type": "code",
        "colab": {
          "base_uri": "https://localhost:8080/",
          "height": 232
        },
        "outputId": "3c4f0cdf-e8f4-4018-f7b7-909a78283dda"
      },
      "source": [
        "merge_data.head()"
      ],
      "execution_count": 416,
      "outputs": [
        {
          "output_type": "execute_result",
          "data": {
            "text/html": [
              "<div>\n",
              "<style scoped>\n",
              "    .dataframe tbody tr th:only-of-type {\n",
              "        vertical-align: middle;\n",
              "    }\n",
              "\n",
              "    .dataframe tbody tr th {\n",
              "        vertical-align: top;\n",
              "    }\n",
              "\n",
              "    .dataframe thead th {\n",
              "        text-align: right;\n",
              "    }\n",
              "</style>\n",
              "<table border=\"1\" class=\"dataframe\">\n",
              "  <thead>\n",
              "    <tr style=\"text-align: right;\">\n",
              "      <th></th>\n",
              "      <th>employee_id</th>\n",
              "      <th>number_project</th>\n",
              "      <th>average_montly_hours</th>\n",
              "      <th>time_spend_company</th>\n",
              "      <th>Work_accident</th>\n",
              "      <th>promotion_last_5years</th>\n",
              "      <th>department</th>\n",
              "      <th>salary</th>\n",
              "      <th>left</th>\n",
              "      <th>EMPLOYEE #</th>\n",
              "      <th>satisfaction_level</th>\n",
              "      <th>last_evaluation</th>\n",
              "    </tr>\n",
              "  </thead>\n",
              "  <tbody>\n",
              "    <tr>\n",
              "      <th>0</th>\n",
              "      <td>1003</td>\n",
              "      <td>2</td>\n",
              "      <td>157</td>\n",
              "      <td>3</td>\n",
              "      <td>0</td>\n",
              "      <td>0</td>\n",
              "      <td>sales</td>\n",
              "      <td>low</td>\n",
              "      <td>1</td>\n",
              "      <td>1003</td>\n",
              "      <td>0.38</td>\n",
              "      <td>0.53</td>\n",
              "    </tr>\n",
              "    <tr>\n",
              "      <th>1</th>\n",
              "      <td>1005</td>\n",
              "      <td>5</td>\n",
              "      <td>262</td>\n",
              "      <td>6</td>\n",
              "      <td>0</td>\n",
              "      <td>0</td>\n",
              "      <td>sales</td>\n",
              "      <td>medium</td>\n",
              "      <td>1</td>\n",
              "      <td>1005</td>\n",
              "      <td>0.80</td>\n",
              "      <td>0.86</td>\n",
              "    </tr>\n",
              "    <tr>\n",
              "      <th>2</th>\n",
              "      <td>1486</td>\n",
              "      <td>7</td>\n",
              "      <td>272</td>\n",
              "      <td>4</td>\n",
              "      <td>0</td>\n",
              "      <td>0</td>\n",
              "      <td>sales</td>\n",
              "      <td>medium</td>\n",
              "      <td>1</td>\n",
              "      <td>1486</td>\n",
              "      <td>0.11</td>\n",
              "      <td>0.88</td>\n",
              "    </tr>\n",
              "    <tr>\n",
              "      <th>3</th>\n",
              "      <td>1038</td>\n",
              "      <td>5</td>\n",
              "      <td>223</td>\n",
              "      <td>5</td>\n",
              "      <td>0</td>\n",
              "      <td>0</td>\n",
              "      <td>sales</td>\n",
              "      <td>low</td>\n",
              "      <td>1</td>\n",
              "      <td>1038</td>\n",
              "      <td>0.72</td>\n",
              "      <td>0.87</td>\n",
              "    </tr>\n",
              "    <tr>\n",
              "      <th>4</th>\n",
              "      <td>1057</td>\n",
              "      <td>2</td>\n",
              "      <td>159</td>\n",
              "      <td>3</td>\n",
              "      <td>0</td>\n",
              "      <td>0</td>\n",
              "      <td>sales</td>\n",
              "      <td>low</td>\n",
              "      <td>1</td>\n",
              "      <td>1057</td>\n",
              "      <td>0.37</td>\n",
              "      <td>0.52</td>\n",
              "    </tr>\n",
              "  </tbody>\n",
              "</table>\n",
              "</div>"
            ],
            "text/plain": [
              "   employee_id  number_project  ...  satisfaction_level  last_evaluation\n",
              "0         1003               2  ...                0.38             0.53\n",
              "1         1005               5  ...                0.80             0.86\n",
              "2         1486               7  ...                0.11             0.88\n",
              "3         1038               5  ...                0.72             0.87\n",
              "4         1057               2  ...                0.37             0.52\n",
              "\n",
              "[5 rows x 12 columns]"
            ]
          },
          "metadata": {
            "tags": []
          },
          "execution_count": 416
        }
      ]
    },
    {
      "cell_type": "code",
      "metadata": {
        "id": "0KxDGnPs5wy4",
        "colab_type": "code",
        "colab": {}
      },
      "source": [
        "merge_data = merge_data.drop(columns = [\"EMPLOYEE #\"])"
      ],
      "execution_count": 417,
      "outputs": []
    },
    {
      "cell_type": "code",
      "metadata": {
        "id": "8uHnSxpw53Xz",
        "colab_type": "code",
        "colab": {
          "base_uri": "https://localhost:8080/",
          "height": 215
        },
        "outputId": "f866426f-8b12-43b9-eeff-e75b54f24dd7"
      },
      "source": [
        "merge_data.head()"
      ],
      "execution_count": 418,
      "outputs": [
        {
          "output_type": "execute_result",
          "data": {
            "text/html": [
              "<div>\n",
              "<style scoped>\n",
              "    .dataframe tbody tr th:only-of-type {\n",
              "        vertical-align: middle;\n",
              "    }\n",
              "\n",
              "    .dataframe tbody tr th {\n",
              "        vertical-align: top;\n",
              "    }\n",
              "\n",
              "    .dataframe thead th {\n",
              "        text-align: right;\n",
              "    }\n",
              "</style>\n",
              "<table border=\"1\" class=\"dataframe\">\n",
              "  <thead>\n",
              "    <tr style=\"text-align: right;\">\n",
              "      <th></th>\n",
              "      <th>employee_id</th>\n",
              "      <th>number_project</th>\n",
              "      <th>average_montly_hours</th>\n",
              "      <th>time_spend_company</th>\n",
              "      <th>Work_accident</th>\n",
              "      <th>promotion_last_5years</th>\n",
              "      <th>department</th>\n",
              "      <th>salary</th>\n",
              "      <th>left</th>\n",
              "      <th>satisfaction_level</th>\n",
              "      <th>last_evaluation</th>\n",
              "    </tr>\n",
              "  </thead>\n",
              "  <tbody>\n",
              "    <tr>\n",
              "      <th>0</th>\n",
              "      <td>1003</td>\n",
              "      <td>2</td>\n",
              "      <td>157</td>\n",
              "      <td>3</td>\n",
              "      <td>0</td>\n",
              "      <td>0</td>\n",
              "      <td>sales</td>\n",
              "      <td>low</td>\n",
              "      <td>1</td>\n",
              "      <td>0.38</td>\n",
              "      <td>0.53</td>\n",
              "    </tr>\n",
              "    <tr>\n",
              "      <th>1</th>\n",
              "      <td>1005</td>\n",
              "      <td>5</td>\n",
              "      <td>262</td>\n",
              "      <td>6</td>\n",
              "      <td>0</td>\n",
              "      <td>0</td>\n",
              "      <td>sales</td>\n",
              "      <td>medium</td>\n",
              "      <td>1</td>\n",
              "      <td>0.80</td>\n",
              "      <td>0.86</td>\n",
              "    </tr>\n",
              "    <tr>\n",
              "      <th>2</th>\n",
              "      <td>1486</td>\n",
              "      <td>7</td>\n",
              "      <td>272</td>\n",
              "      <td>4</td>\n",
              "      <td>0</td>\n",
              "      <td>0</td>\n",
              "      <td>sales</td>\n",
              "      <td>medium</td>\n",
              "      <td>1</td>\n",
              "      <td>0.11</td>\n",
              "      <td>0.88</td>\n",
              "    </tr>\n",
              "    <tr>\n",
              "      <th>3</th>\n",
              "      <td>1038</td>\n",
              "      <td>5</td>\n",
              "      <td>223</td>\n",
              "      <td>5</td>\n",
              "      <td>0</td>\n",
              "      <td>0</td>\n",
              "      <td>sales</td>\n",
              "      <td>low</td>\n",
              "      <td>1</td>\n",
              "      <td>0.72</td>\n",
              "      <td>0.87</td>\n",
              "    </tr>\n",
              "    <tr>\n",
              "      <th>4</th>\n",
              "      <td>1057</td>\n",
              "      <td>2</td>\n",
              "      <td>159</td>\n",
              "      <td>3</td>\n",
              "      <td>0</td>\n",
              "      <td>0</td>\n",
              "      <td>sales</td>\n",
              "      <td>low</td>\n",
              "      <td>1</td>\n",
              "      <td>0.37</td>\n",
              "      <td>0.52</td>\n",
              "    </tr>\n",
              "  </tbody>\n",
              "</table>\n",
              "</div>"
            ],
            "text/plain": [
              "   employee_id  number_project  ...  satisfaction_level  last_evaluation\n",
              "0         1003               2  ...                0.38             0.53\n",
              "1         1005               5  ...                0.80             0.86\n",
              "2         1486               7  ...                0.11             0.88\n",
              "3         1038               5  ...                0.72             0.87\n",
              "4         1057               2  ...                0.37             0.52\n",
              "\n",
              "[5 rows x 11 columns]"
            ]
          },
          "metadata": {
            "tags": []
          },
          "execution_count": 418
        }
      ]
    },
    {
      "cell_type": "code",
      "metadata": {
        "id": "ZA5461VE55Im",
        "colab_type": "code",
        "colab": {}
      },
      "source": [
        "# two new parameters included in the dataset \n",
        "\n",
        "# \"satisfaction_level\" , \"last_evaluation\""
      ],
      "execution_count": 419,
      "outputs": []
    },
    {
      "cell_type": "code",
      "metadata": {
        "id": "E_10FQRO6Dt3",
        "colab_type": "code",
        "colab": {
          "base_uri": "https://localhost:8080/",
          "height": 314
        },
        "outputId": "2e7fa1e9-6d71-4a5a-950f-2c98f3abadb0"
      },
      "source": [
        "merge_data.describe().transpose()"
      ],
      "execution_count": 420,
      "outputs": [
        {
          "output_type": "execute_result",
          "data": {
            "text/html": [
              "<div>\n",
              "<style scoped>\n",
              "    .dataframe tbody tr th:only-of-type {\n",
              "        vertical-align: middle;\n",
              "    }\n",
              "\n",
              "    .dataframe tbody tr th {\n",
              "        vertical-align: top;\n",
              "    }\n",
              "\n",
              "    .dataframe thead th {\n",
              "        text-align: right;\n",
              "    }\n",
              "</style>\n",
              "<table border=\"1\" class=\"dataframe\">\n",
              "  <thead>\n",
              "    <tr style=\"text-align: right;\">\n",
              "      <th></th>\n",
              "      <th>count</th>\n",
              "      <th>mean</th>\n",
              "      <th>std</th>\n",
              "      <th>min</th>\n",
              "      <th>25%</th>\n",
              "      <th>50%</th>\n",
              "      <th>75%</th>\n",
              "      <th>max</th>\n",
              "    </tr>\n",
              "  </thead>\n",
              "  <tbody>\n",
              "    <tr>\n",
              "      <th>employee_id</th>\n",
              "      <td>14999.0</td>\n",
              "      <td>45424.627575</td>\n",
              "      <td>25915.900127</td>\n",
              "      <td>1003.00</td>\n",
              "      <td>22872.50</td>\n",
              "      <td>45448.00</td>\n",
              "      <td>67480.50</td>\n",
              "      <td>99815.0</td>\n",
              "    </tr>\n",
              "    <tr>\n",
              "      <th>number_project</th>\n",
              "      <td>14999.0</td>\n",
              "      <td>3.803054</td>\n",
              "      <td>1.232592</td>\n",
              "      <td>2.00</td>\n",
              "      <td>3.00</td>\n",
              "      <td>4.00</td>\n",
              "      <td>5.00</td>\n",
              "      <td>7.0</td>\n",
              "    </tr>\n",
              "    <tr>\n",
              "      <th>average_montly_hours</th>\n",
              "      <td>14999.0</td>\n",
              "      <td>201.050337</td>\n",
              "      <td>49.943099</td>\n",
              "      <td>96.00</td>\n",
              "      <td>156.00</td>\n",
              "      <td>200.00</td>\n",
              "      <td>245.00</td>\n",
              "      <td>310.0</td>\n",
              "    </tr>\n",
              "    <tr>\n",
              "      <th>time_spend_company</th>\n",
              "      <td>14999.0</td>\n",
              "      <td>3.498233</td>\n",
              "      <td>1.460136</td>\n",
              "      <td>2.00</td>\n",
              "      <td>3.00</td>\n",
              "      <td>3.00</td>\n",
              "      <td>4.00</td>\n",
              "      <td>10.0</td>\n",
              "    </tr>\n",
              "    <tr>\n",
              "      <th>Work_accident</th>\n",
              "      <td>14999.0</td>\n",
              "      <td>0.144610</td>\n",
              "      <td>0.351719</td>\n",
              "      <td>0.00</td>\n",
              "      <td>0.00</td>\n",
              "      <td>0.00</td>\n",
              "      <td>0.00</td>\n",
              "      <td>1.0</td>\n",
              "    </tr>\n",
              "    <tr>\n",
              "      <th>promotion_last_5years</th>\n",
              "      <td>14999.0</td>\n",
              "      <td>0.021268</td>\n",
              "      <td>0.144281</td>\n",
              "      <td>0.00</td>\n",
              "      <td>0.00</td>\n",
              "      <td>0.00</td>\n",
              "      <td>0.00</td>\n",
              "      <td>1.0</td>\n",
              "    </tr>\n",
              "    <tr>\n",
              "      <th>left</th>\n",
              "      <td>14999.0</td>\n",
              "      <td>0.238083</td>\n",
              "      <td>0.425924</td>\n",
              "      <td>0.00</td>\n",
              "      <td>0.00</td>\n",
              "      <td>0.00</td>\n",
              "      <td>0.00</td>\n",
              "      <td>1.0</td>\n",
              "    </tr>\n",
              "    <tr>\n",
              "      <th>satisfaction_level</th>\n",
              "      <td>14972.0</td>\n",
              "      <td>0.612830</td>\n",
              "      <td>0.248714</td>\n",
              "      <td>0.09</td>\n",
              "      <td>0.44</td>\n",
              "      <td>0.64</td>\n",
              "      <td>0.82</td>\n",
              "      <td>1.0</td>\n",
              "    </tr>\n",
              "    <tr>\n",
              "      <th>last_evaluation</th>\n",
              "      <td>14972.0</td>\n",
              "      <td>0.716125</td>\n",
              "      <td>0.171138</td>\n",
              "      <td>0.36</td>\n",
              "      <td>0.56</td>\n",
              "      <td>0.72</td>\n",
              "      <td>0.87</td>\n",
              "      <td>1.0</td>\n",
              "    </tr>\n",
              "  </tbody>\n",
              "</table>\n",
              "</div>"
            ],
            "text/plain": [
              "                         count          mean  ...       75%      max\n",
              "employee_id            14999.0  45424.627575  ...  67480.50  99815.0\n",
              "number_project         14999.0      3.803054  ...      5.00      7.0\n",
              "average_montly_hours   14999.0    201.050337  ...    245.00    310.0\n",
              "time_spend_company     14999.0      3.498233  ...      4.00     10.0\n",
              "Work_accident          14999.0      0.144610  ...      0.00      1.0\n",
              "promotion_last_5years  14999.0      0.021268  ...      0.00      1.0\n",
              "left                   14999.0      0.238083  ...      0.00      1.0\n",
              "satisfaction_level     14972.0      0.612830  ...      0.82      1.0\n",
              "last_evaluation        14972.0      0.716125  ...      0.87      1.0\n",
              "\n",
              "[9 rows x 8 columns]"
            ]
          },
          "metadata": {
            "tags": []
          },
          "execution_count": 420
        }
      ]
    },
    {
      "cell_type": "code",
      "metadata": {
        "id": "A2rCfw3v8C2v",
        "colab_type": "code",
        "colab": {
          "base_uri": "https://localhost:8080/",
          "height": 218
        },
        "outputId": "b168521f-a693-4ff6-acf0-409181245f42"
      },
      "source": [
        "merge_data.isna().sum()"
      ],
      "execution_count": 421,
      "outputs": [
        {
          "output_type": "execute_result",
          "data": {
            "text/plain": [
              "employee_id               0\n",
              "number_project            0\n",
              "average_montly_hours      0\n",
              "time_spend_company        0\n",
              "Work_accident             0\n",
              "promotion_last_5years     0\n",
              "department                0\n",
              "salary                    0\n",
              "left                      0\n",
              "satisfaction_level       27\n",
              "last_evaluation          27\n",
              "dtype: int64"
            ]
          },
          "metadata": {
            "tags": []
          },
          "execution_count": 421
        }
      ]
    },
    {
      "cell_type": "code",
      "metadata": {
        "id": "k5DyGo3f8RXs",
        "colab_type": "code",
        "colab": {}
      },
      "source": [
        "# 27 rows have empty values "
      ],
      "execution_count": 422,
      "outputs": []
    },
    {
      "cell_type": "code",
      "metadata": {
        "id": "E3828S_v9Dl8",
        "colab_type": "code",
        "colab": {
          "base_uri": "https://localhost:8080/",
          "height": 1000
        },
        "outputId": "354ba19f-75b6-4e9f-89e7-a5d6ade1312d"
      },
      "source": [
        "# rows with null values\n",
        "merge_data[merge_data.isnull().any(axis = 1)]"
      ],
      "execution_count": 423,
      "outputs": [
        {
          "output_type": "execute_result",
          "data": {
            "text/html": [
              "<div>\n",
              "<style scoped>\n",
              "    .dataframe tbody tr th:only-of-type {\n",
              "        vertical-align: middle;\n",
              "    }\n",
              "\n",
              "    .dataframe tbody tr th {\n",
              "        vertical-align: top;\n",
              "    }\n",
              "\n",
              "    .dataframe thead th {\n",
              "        text-align: right;\n",
              "    }\n",
              "</style>\n",
              "<table border=\"1\" class=\"dataframe\">\n",
              "  <thead>\n",
              "    <tr style=\"text-align: right;\">\n",
              "      <th></th>\n",
              "      <th>employee_id</th>\n",
              "      <th>number_project</th>\n",
              "      <th>average_montly_hours</th>\n",
              "      <th>time_spend_company</th>\n",
              "      <th>Work_accident</th>\n",
              "      <th>promotion_last_5years</th>\n",
              "      <th>department</th>\n",
              "      <th>salary</th>\n",
              "      <th>left</th>\n",
              "      <th>satisfaction_level</th>\n",
              "      <th>last_evaluation</th>\n",
              "    </tr>\n",
              "  </thead>\n",
              "  <tbody>\n",
              "    <tr>\n",
              "      <th>18</th>\n",
              "      <td>3794</td>\n",
              "      <td>2</td>\n",
              "      <td>160</td>\n",
              "      <td>3</td>\n",
              "      <td>1</td>\n",
              "      <td>1</td>\n",
              "      <td>sales</td>\n",
              "      <td>low</td>\n",
              "      <td>1</td>\n",
              "      <td>NaN</td>\n",
              "      <td>NaN</td>\n",
              "    </tr>\n",
              "    <tr>\n",
              "      <th>19</th>\n",
              "      <td>1140</td>\n",
              "      <td>5</td>\n",
              "      <td>262</td>\n",
              "      <td>5</td>\n",
              "      <td>0</td>\n",
              "      <td>0</td>\n",
              "      <td>sales</td>\n",
              "      <td>low</td>\n",
              "      <td>1</td>\n",
              "      <td>NaN</td>\n",
              "      <td>0.89</td>\n",
              "    </tr>\n",
              "    <tr>\n",
              "      <th>33</th>\n",
              "      <td>1230</td>\n",
              "      <td>2</td>\n",
              "      <td>140</td>\n",
              "      <td>3</td>\n",
              "      <td>0</td>\n",
              "      <td>0</td>\n",
              "      <td>hr</td>\n",
              "      <td>low</td>\n",
              "      <td>1</td>\n",
              "      <td>NaN</td>\n",
              "      <td>NaN</td>\n",
              "    </tr>\n",
              "    <tr>\n",
              "      <th>53</th>\n",
              "      <td>1340</td>\n",
              "      <td>2</td>\n",
              "      <td>132</td>\n",
              "      <td>3</td>\n",
              "      <td>0</td>\n",
              "      <td>0</td>\n",
              "      <td>support</td>\n",
              "      <td>low</td>\n",
              "      <td>1</td>\n",
              "      <td>NaN</td>\n",
              "      <td>NaN</td>\n",
              "    </tr>\n",
              "    <tr>\n",
              "      <th>72</th>\n",
              "      <td>22316</td>\n",
              "      <td>2</td>\n",
              "      <td>149</td>\n",
              "      <td>3</td>\n",
              "      <td>0</td>\n",
              "      <td>0</td>\n",
              "      <td>product_mng</td>\n",
              "      <td>high</td>\n",
              "      <td>1</td>\n",
              "      <td>NaN</td>\n",
              "      <td>NaN</td>\n",
              "    </tr>\n",
              "    <tr>\n",
              "      <th>92</th>\n",
              "      <td>1581</td>\n",
              "      <td>2</td>\n",
              "      <td>143</td>\n",
              "      <td>3</td>\n",
              "      <td>0</td>\n",
              "      <td>0</td>\n",
              "      <td>sales</td>\n",
              "      <td>low</td>\n",
              "      <td>1</td>\n",
              "      <td>NaN</td>\n",
              "      <td>NaN</td>\n",
              "    </tr>\n",
              "    <tr>\n",
              "      <th>107</th>\n",
              "      <td>17376</td>\n",
              "      <td>2</td>\n",
              "      <td>148</td>\n",
              "      <td>3</td>\n",
              "      <td>0</td>\n",
              "      <td>0</td>\n",
              "      <td>accounting</td>\n",
              "      <td>medium</td>\n",
              "      <td>1</td>\n",
              "      <td>NaN</td>\n",
              "      <td>NaN</td>\n",
              "    </tr>\n",
              "    <tr>\n",
              "      <th>120</th>\n",
              "      <td>1739</td>\n",
              "      <td>4</td>\n",
              "      <td>158</td>\n",
              "      <td>4</td>\n",
              "      <td>1</td>\n",
              "      <td>0</td>\n",
              "      <td>technical</td>\n",
              "      <td>low</td>\n",
              "      <td>1</td>\n",
              "      <td>NaN</td>\n",
              "      <td>NaN</td>\n",
              "    </tr>\n",
              "    <tr>\n",
              "      <th>137</th>\n",
              "      <td>1847</td>\n",
              "      <td>2</td>\n",
              "      <td>129</td>\n",
              "      <td>3</td>\n",
              "      <td>0</td>\n",
              "      <td>0</td>\n",
              "      <td>management</td>\n",
              "      <td>low</td>\n",
              "      <td>1</td>\n",
              "      <td>NaN</td>\n",
              "      <td>NaN</td>\n",
              "    </tr>\n",
              "    <tr>\n",
              "      <th>175</th>\n",
              "      <td>32923</td>\n",
              "      <td>4</td>\n",
              "      <td>164</td>\n",
              "      <td>2</td>\n",
              "      <td>0</td>\n",
              "      <td>0</td>\n",
              "      <td>sales</td>\n",
              "      <td>low</td>\n",
              "      <td>1</td>\n",
              "      <td>NaN</td>\n",
              "      <td>NaN</td>\n",
              "    </tr>\n",
              "    <tr>\n",
              "      <th>191</th>\n",
              "      <td>2160</td>\n",
              "      <td>4</td>\n",
              "      <td>226</td>\n",
              "      <td>6</td>\n",
              "      <td>1</td>\n",
              "      <td>0</td>\n",
              "      <td>technical</td>\n",
              "      <td>medium</td>\n",
              "      <td>1</td>\n",
              "      <td>0.92</td>\n",
              "      <td>NaN</td>\n",
              "    </tr>\n",
              "    <tr>\n",
              "      <th>352</th>\n",
              "      <td>3150</td>\n",
              "      <td>4</td>\n",
              "      <td>262</td>\n",
              "      <td>6</td>\n",
              "      <td>0</td>\n",
              "      <td>0</td>\n",
              "      <td>support</td>\n",
              "      <td>low</td>\n",
              "      <td>1</td>\n",
              "      <td>NaN</td>\n",
              "      <td>0.91</td>\n",
              "    </tr>\n",
              "    <tr>\n",
              "      <th>376</th>\n",
              "      <td>3250</td>\n",
              "      <td>4</td>\n",
              "      <td>296</td>\n",
              "      <td>2</td>\n",
              "      <td>0</td>\n",
              "      <td>0</td>\n",
              "      <td>IT</td>\n",
              "      <td>medium</td>\n",
              "      <td>1</td>\n",
              "      <td>0.56</td>\n",
              "      <td>NaN</td>\n",
              "    </tr>\n",
              "    <tr>\n",
              "      <th>402</th>\n",
              "      <td>3405</td>\n",
              "      <td>5</td>\n",
              "      <td>275</td>\n",
              "      <td>5</td>\n",
              "      <td>0</td>\n",
              "      <td>0</td>\n",
              "      <td>sales</td>\n",
              "      <td>low</td>\n",
              "      <td>1</td>\n",
              "      <td>NaN</td>\n",
              "      <td>1.00</td>\n",
              "    </tr>\n",
              "    <tr>\n",
              "      <th>427</th>\n",
              "      <td>78130</td>\n",
              "      <td>3</td>\n",
              "      <td>180</td>\n",
              "      <td>4</td>\n",
              "      <td>0</td>\n",
              "      <td>0</td>\n",
              "      <td>technical</td>\n",
              "      <td>medium</td>\n",
              "      <td>1</td>\n",
              "      <td>NaN</td>\n",
              "      <td>0.60</td>\n",
              "    </tr>\n",
              "    <tr>\n",
              "      <th>442</th>\n",
              "      <td>3635</td>\n",
              "      <td>5</td>\n",
              "      <td>229</td>\n",
              "      <td>5</td>\n",
              "      <td>0</td>\n",
              "      <td>0</td>\n",
              "      <td>management</td>\n",
              "      <td>low</td>\n",
              "      <td>1</td>\n",
              "      <td>0.77</td>\n",
              "      <td>NaN</td>\n",
              "    </tr>\n",
              "    <tr>\n",
              "      <th>468</th>\n",
              "      <td>3755</td>\n",
              "      <td>5</td>\n",
              "      <td>245</td>\n",
              "      <td>5</td>\n",
              "      <td>0</td>\n",
              "      <td>0</td>\n",
              "      <td>sales</td>\n",
              "      <td>low</td>\n",
              "      <td>1</td>\n",
              "      <td>NaN</td>\n",
              "      <td>0.92</td>\n",
              "    </tr>\n",
              "    <tr>\n",
              "      <th>543</th>\n",
              "      <td>4150</td>\n",
              "      <td>5</td>\n",
              "      <td>237</td>\n",
              "      <td>5</td>\n",
              "      <td>0</td>\n",
              "      <td>0</td>\n",
              "      <td>sales</td>\n",
              "      <td>medium</td>\n",
              "      <td>1</td>\n",
              "      <td>0.89</td>\n",
              "      <td>NaN</td>\n",
              "    </tr>\n",
              "    <tr>\n",
              "      <th>892</th>\n",
              "      <td>43615</td>\n",
              "      <td>4</td>\n",
              "      <td>276</td>\n",
              "      <td>5</td>\n",
              "      <td>0</td>\n",
              "      <td>0</td>\n",
              "      <td>support</td>\n",
              "      <td>low</td>\n",
              "      <td>1</td>\n",
              "      <td>0.74</td>\n",
              "      <td>NaN</td>\n",
              "    </tr>\n",
              "    <tr>\n",
              "      <th>1588</th>\n",
              "      <td>42185</td>\n",
              "      <td>5</td>\n",
              "      <td>264</td>\n",
              "      <td>5</td>\n",
              "      <td>0</td>\n",
              "      <td>0</td>\n",
              "      <td>IT</td>\n",
              "      <td>medium</td>\n",
              "      <td>1</td>\n",
              "      <td>NaN</td>\n",
              "      <td>0.81</td>\n",
              "    </tr>\n",
              "    <tr>\n",
              "      <th>1934</th>\n",
              "      <td>11895</td>\n",
              "      <td>4</td>\n",
              "      <td>225</td>\n",
              "      <td>5</td>\n",
              "      <td>0</td>\n",
              "      <td>0</td>\n",
              "      <td>sales</td>\n",
              "      <td>medium</td>\n",
              "      <td>1</td>\n",
              "      <td>0.78</td>\n",
              "      <td>NaN</td>\n",
              "    </tr>\n",
              "    <tr>\n",
              "      <th>2343</th>\n",
              "      <td>14170</td>\n",
              "      <td>3</td>\n",
              "      <td>115</td>\n",
              "      <td>2</td>\n",
              "      <td>1</td>\n",
              "      <td>0</td>\n",
              "      <td>support</td>\n",
              "      <td>low</td>\n",
              "      <td>0</td>\n",
              "      <td>NaN</td>\n",
              "      <td>0.97</td>\n",
              "    </tr>\n",
              "    <tr>\n",
              "      <th>2743</th>\n",
              "      <td>16445</td>\n",
              "      <td>5</td>\n",
              "      <td>149</td>\n",
              "      <td>2</td>\n",
              "      <td>0</td>\n",
              "      <td>0</td>\n",
              "      <td>RandD</td>\n",
              "      <td>low</td>\n",
              "      <td>0</td>\n",
              "      <td>0.62</td>\n",
              "      <td>NaN</td>\n",
              "    </tr>\n",
              "    <tr>\n",
              "      <th>3170</th>\n",
              "      <td>18980</td>\n",
              "      <td>5</td>\n",
              "      <td>186</td>\n",
              "      <td>2</td>\n",
              "      <td>0</td>\n",
              "      <td>0</td>\n",
              "      <td>technical</td>\n",
              "      <td>medium</td>\n",
              "      <td>0</td>\n",
              "      <td>NaN</td>\n",
              "      <td>NaN</td>\n",
              "    </tr>\n",
              "    <tr>\n",
              "      <th>3609</th>\n",
              "      <td>21580</td>\n",
              "      <td>3</td>\n",
              "      <td>263</td>\n",
              "      <td>2</td>\n",
              "      <td>1</td>\n",
              "      <td>0</td>\n",
              "      <td>sales</td>\n",
              "      <td>medium</td>\n",
              "      <td>0</td>\n",
              "      <td>0.95</td>\n",
              "      <td>NaN</td>\n",
              "    </tr>\n",
              "    <tr>\n",
              "      <th>3776</th>\n",
              "      <td>22555</td>\n",
              "      <td>4</td>\n",
              "      <td>214</td>\n",
              "      <td>3</td>\n",
              "      <td>0</td>\n",
              "      <td>0</td>\n",
              "      <td>technical</td>\n",
              "      <td>medium</td>\n",
              "      <td>0</td>\n",
              "      <td>NaN</td>\n",
              "      <td>0.68</td>\n",
              "    </tr>\n",
              "    <tr>\n",
              "      <th>4122</th>\n",
              "      <td>24505</td>\n",
              "      <td>3</td>\n",
              "      <td>192</td>\n",
              "      <td>3</td>\n",
              "      <td>0</td>\n",
              "      <td>0</td>\n",
              "      <td>marketing</td>\n",
              "      <td>high</td>\n",
              "      <td>0</td>\n",
              "      <td>0.86</td>\n",
              "      <td>NaN</td>\n",
              "    </tr>\n",
              "    <tr>\n",
              "      <th>4740</th>\n",
              "      <td>27950</td>\n",
              "      <td>3</td>\n",
              "      <td>253</td>\n",
              "      <td>3</td>\n",
              "      <td>0</td>\n",
              "      <td>0</td>\n",
              "      <td>marketing</td>\n",
              "      <td>medium</td>\n",
              "      <td>0</td>\n",
              "      <td>NaN</td>\n",
              "      <td>0.95</td>\n",
              "    </tr>\n",
              "    <tr>\n",
              "      <th>5028</th>\n",
              "      <td>29640</td>\n",
              "      <td>4</td>\n",
              "      <td>180</td>\n",
              "      <td>4</td>\n",
              "      <td>0</td>\n",
              "      <td>0</td>\n",
              "      <td>product_mng</td>\n",
              "      <td>medium</td>\n",
              "      <td>0</td>\n",
              "      <td>0.64</td>\n",
              "      <td>NaN</td>\n",
              "    </tr>\n",
              "    <tr>\n",
              "      <th>6453</th>\n",
              "      <td>38090</td>\n",
              "      <td>5</td>\n",
              "      <td>166</td>\n",
              "      <td>2</td>\n",
              "      <td>0</td>\n",
              "      <td>0</td>\n",
              "      <td>technical</td>\n",
              "      <td>high</td>\n",
              "      <td>0</td>\n",
              "      <td>NaN</td>\n",
              "      <td>0.78</td>\n",
              "    </tr>\n",
              "    <tr>\n",
              "      <th>7005</th>\n",
              "      <td>41535</td>\n",
              "      <td>4</td>\n",
              "      <td>150</td>\n",
              "      <td>3</td>\n",
              "      <td>0</td>\n",
              "      <td>0</td>\n",
              "      <td>technical</td>\n",
              "      <td>low</td>\n",
              "      <td>0</td>\n",
              "      <td>0.82</td>\n",
              "      <td>NaN</td>\n",
              "    </tr>\n",
              "    <tr>\n",
              "      <th>7516</th>\n",
              "      <td>44460</td>\n",
              "      <td>4</td>\n",
              "      <td>264</td>\n",
              "      <td>3</td>\n",
              "      <td>0</td>\n",
              "      <td>0</td>\n",
              "      <td>technical</td>\n",
              "      <td>low</td>\n",
              "      <td>0</td>\n",
              "      <td>NaN</td>\n",
              "      <td>0.97</td>\n",
              "    </tr>\n",
              "    <tr>\n",
              "      <th>8630</th>\n",
              "      <td>50960</td>\n",
              "      <td>4</td>\n",
              "      <td>167</td>\n",
              "      <td>3</td>\n",
              "      <td>1</td>\n",
              "      <td>0</td>\n",
              "      <td>technical</td>\n",
              "      <td>low</td>\n",
              "      <td>0</td>\n",
              "      <td>0.90</td>\n",
              "      <td>NaN</td>\n",
              "    </tr>\n",
              "    <tr>\n",
              "      <th>9455</th>\n",
              "      <td>55770</td>\n",
              "      <td>4</td>\n",
              "      <td>270</td>\n",
              "      <td>3</td>\n",
              "      <td>0</td>\n",
              "      <td>0</td>\n",
              "      <td>product_mng</td>\n",
              "      <td>low</td>\n",
              "      <td>0</td>\n",
              "      <td>NaN</td>\n",
              "      <td>0.88</td>\n",
              "    </tr>\n",
              "    <tr>\n",
              "      <th>9901</th>\n",
              "      <td>58630</td>\n",
              "      <td>5</td>\n",
              "      <td>252</td>\n",
              "      <td>3</td>\n",
              "      <td>0</td>\n",
              "      <td>0</td>\n",
              "      <td>support</td>\n",
              "      <td>medium</td>\n",
              "      <td>0</td>\n",
              "      <td>0.92</td>\n",
              "      <td>NaN</td>\n",
              "    </tr>\n",
              "    <tr>\n",
              "      <th>10647</th>\n",
              "      <td>62595</td>\n",
              "      <td>4</td>\n",
              "      <td>165</td>\n",
              "      <td>3</td>\n",
              "      <td>0</td>\n",
              "      <td>0</td>\n",
              "      <td>technical</td>\n",
              "      <td>low</td>\n",
              "      <td>0</td>\n",
              "      <td>NaN</td>\n",
              "      <td>0.69</td>\n",
              "    </tr>\n",
              "    <tr>\n",
              "      <th>10962</th>\n",
              "      <td>64350</td>\n",
              "      <td>5</td>\n",
              "      <td>233</td>\n",
              "      <td>3</td>\n",
              "      <td>0</td>\n",
              "      <td>0</td>\n",
              "      <td>support</td>\n",
              "      <td>low</td>\n",
              "      <td>0</td>\n",
              "      <td>0.65</td>\n",
              "      <td>NaN</td>\n",
              "    </tr>\n",
              "    <tr>\n",
              "      <th>11575</th>\n",
              "      <td>20215</td>\n",
              "      <td>3</td>\n",
              "      <td>192</td>\n",
              "      <td>7</td>\n",
              "      <td>0</td>\n",
              "      <td>0</td>\n",
              "      <td>management</td>\n",
              "      <td>high</td>\n",
              "      <td>0</td>\n",
              "      <td>NaN</td>\n",
              "      <td>NaN</td>\n",
              "    </tr>\n",
              "    <tr>\n",
              "      <th>11967</th>\n",
              "      <td>70005</td>\n",
              "      <td>3</td>\n",
              "      <td>148</td>\n",
              "      <td>3</td>\n",
              "      <td>0</td>\n",
              "      <td>0</td>\n",
              "      <td>IT</td>\n",
              "      <td>low</td>\n",
              "      <td>0</td>\n",
              "      <td>0.82</td>\n",
              "      <td>NaN</td>\n",
              "    </tr>\n",
              "    <tr>\n",
              "      <th>12422</th>\n",
              "      <td>72475</td>\n",
              "      <td>5</td>\n",
              "      <td>257</td>\n",
              "      <td>5</td>\n",
              "      <td>0</td>\n",
              "      <td>0</td>\n",
              "      <td>technical</td>\n",
              "      <td>medium</td>\n",
              "      <td>1</td>\n",
              "      <td>NaN</td>\n",
              "      <td>1.00</td>\n",
              "    </tr>\n",
              "    <tr>\n",
              "      <th>12853</th>\n",
              "      <td>74880</td>\n",
              "      <td>3</td>\n",
              "      <td>136</td>\n",
              "      <td>2</td>\n",
              "      <td>0</td>\n",
              "      <td>0</td>\n",
              "      <td>hr</td>\n",
              "      <td>high</td>\n",
              "      <td>0</td>\n",
              "      <td>NaN</td>\n",
              "      <td>0.70</td>\n",
              "    </tr>\n",
              "    <tr>\n",
              "      <th>13482</th>\n",
              "      <td>78780</td>\n",
              "      <td>3</td>\n",
              "      <td>207</td>\n",
              "      <td>7</td>\n",
              "      <td>0</td>\n",
              "      <td>1</td>\n",
              "      <td>management</td>\n",
              "      <td>medium</td>\n",
              "      <td>0</td>\n",
              "      <td>0.58</td>\n",
              "      <td>NaN</td>\n",
              "    </tr>\n",
              "    <tr>\n",
              "      <th>13925</th>\n",
              "      <td>81315</td>\n",
              "      <td>3</td>\n",
              "      <td>133</td>\n",
              "      <td>3</td>\n",
              "      <td>0</td>\n",
              "      <td>0</td>\n",
              "      <td>sales</td>\n",
              "      <td>medium</td>\n",
              "      <td>0</td>\n",
              "      <td>NaN</td>\n",
              "      <td>0.75</td>\n",
              "    </tr>\n",
              "  </tbody>\n",
              "</table>\n",
              "</div>"
            ],
            "text/plain": [
              "       employee_id  number_project  ...  satisfaction_level  last_evaluation\n",
              "18            3794               2  ...                 NaN              NaN\n",
              "19            1140               5  ...                 NaN             0.89\n",
              "33            1230               2  ...                 NaN              NaN\n",
              "53            1340               2  ...                 NaN              NaN\n",
              "72           22316               2  ...                 NaN              NaN\n",
              "92            1581               2  ...                 NaN              NaN\n",
              "107          17376               2  ...                 NaN              NaN\n",
              "120           1739               4  ...                 NaN              NaN\n",
              "137           1847               2  ...                 NaN              NaN\n",
              "175          32923               4  ...                 NaN              NaN\n",
              "191           2160               4  ...                0.92              NaN\n",
              "352           3150               4  ...                 NaN             0.91\n",
              "376           3250               4  ...                0.56              NaN\n",
              "402           3405               5  ...                 NaN             1.00\n",
              "427          78130               3  ...                 NaN             0.60\n",
              "442           3635               5  ...                0.77              NaN\n",
              "468           3755               5  ...                 NaN             0.92\n",
              "543           4150               5  ...                0.89              NaN\n",
              "892          43615               4  ...                0.74              NaN\n",
              "1588         42185               5  ...                 NaN             0.81\n",
              "1934         11895               4  ...                0.78              NaN\n",
              "2343         14170               3  ...                 NaN             0.97\n",
              "2743         16445               5  ...                0.62              NaN\n",
              "3170         18980               5  ...                 NaN              NaN\n",
              "3609         21580               3  ...                0.95              NaN\n",
              "3776         22555               4  ...                 NaN             0.68\n",
              "4122         24505               3  ...                0.86              NaN\n",
              "4740         27950               3  ...                 NaN             0.95\n",
              "5028         29640               4  ...                0.64              NaN\n",
              "6453         38090               5  ...                 NaN             0.78\n",
              "7005         41535               4  ...                0.82              NaN\n",
              "7516         44460               4  ...                 NaN             0.97\n",
              "8630         50960               4  ...                0.90              NaN\n",
              "9455         55770               4  ...                 NaN             0.88\n",
              "9901         58630               5  ...                0.92              NaN\n",
              "10647        62595               4  ...                 NaN             0.69\n",
              "10962        64350               5  ...                0.65              NaN\n",
              "11575        20215               3  ...                 NaN              NaN\n",
              "11967        70005               3  ...                0.82              NaN\n",
              "12422        72475               5  ...                 NaN             1.00\n",
              "12853        74880               3  ...                 NaN             0.70\n",
              "13482        78780               3  ...                0.58              NaN\n",
              "13925        81315               3  ...                 NaN             0.75\n",
              "\n",
              "[43 rows x 11 columns]"
            ]
          },
          "metadata": {
            "tags": []
          },
          "execution_count": 423
        }
      ]
    },
    {
      "cell_type": "code",
      "metadata": {
        "id": "R5Kvs-qw8U6C",
        "colab_type": "code",
        "colab": {
          "base_uri": "https://localhost:8080/",
          "height": 218
        },
        "outputId": "9c18a32b-cd01-47ed-8ae3-a4e883c46e37"
      },
      "source": [
        "# null values in percentage\n",
        "((merge_data.isna().sum()/len(merge_data))*100).round(2)"
      ],
      "execution_count": 424,
      "outputs": [
        {
          "output_type": "execute_result",
          "data": {
            "text/plain": [
              "employee_id              0.00\n",
              "number_project           0.00\n",
              "average_montly_hours     0.00\n",
              "time_spend_company       0.00\n",
              "Work_accident            0.00\n",
              "promotion_last_5years    0.00\n",
              "department               0.00\n",
              "salary                   0.00\n",
              "left                     0.00\n",
              "satisfaction_level       0.18\n",
              "last_evaluation          0.18\n",
              "dtype: float64"
            ]
          },
          "metadata": {
            "tags": []
          },
          "execution_count": 424
        }
      ]
    },
    {
      "cell_type": "code",
      "metadata": {
        "id": "r90tYbG3-J_i",
        "colab_type": "code",
        "colab": {
          "base_uri": "https://localhost:8080/",
          "height": 185
        },
        "outputId": "843aa4a9-6324-4106-ac47-0a56fc62065f"
      },
      "source": [
        "merge_data.mean()"
      ],
      "execution_count": 425,
      "outputs": [
        {
          "output_type": "execute_result",
          "data": {
            "text/plain": [
              "employee_id              45424.627575\n",
              "number_project               3.803054\n",
              "average_montly_hours       201.050337\n",
              "time_spend_company           3.498233\n",
              "Work_accident                0.144610\n",
              "promotion_last_5years        0.021268\n",
              "left                         0.238083\n",
              "satisfaction_level           0.612830\n",
              "last_evaluation              0.716125\n",
              "dtype: float64"
            ]
          },
          "metadata": {
            "tags": []
          },
          "execution_count": 425
        }
      ]
    },
    {
      "cell_type": "code",
      "metadata": {
        "id": "rRsfaTSd83h1",
        "colab_type": "code",
        "colab": {}
      },
      "source": [
        "# since, the percentage is small(0.18%), we fill with mean values of corresponding columns\n",
        "merge_data = merge_data.fillna(merge_data.mean())"
      ],
      "execution_count": 426,
      "outputs": []
    },
    {
      "cell_type": "code",
      "metadata": {
        "id": "WdNQwkMt9A-z",
        "colab_type": "code",
        "colab": {
          "base_uri": "https://localhost:8080/",
          "height": 218
        },
        "outputId": "a992b05e-3208-4d30-bf40-dd1dcbf76fcc"
      },
      "source": [
        "merge_data.isna().sum()"
      ],
      "execution_count": 427,
      "outputs": [
        {
          "output_type": "execute_result",
          "data": {
            "text/plain": [
              "employee_id              0\n",
              "number_project           0\n",
              "average_montly_hours     0\n",
              "time_spend_company       0\n",
              "Work_accident            0\n",
              "promotion_last_5years    0\n",
              "department               0\n",
              "salary                   0\n",
              "left                     0\n",
              "satisfaction_level       0\n",
              "last_evaluation          0\n",
              "dtype: int64"
            ]
          },
          "metadata": {
            "tags": []
          },
          "execution_count": 427
        }
      ]
    },
    {
      "cell_type": "code",
      "metadata": {
        "id": "Vy08PFst9fRZ",
        "colab_type": "code",
        "colab": {}
      },
      "source": [
        "# now we have no null values"
      ],
      "execution_count": 428,
      "outputs": []
    },
    {
      "cell_type": "code",
      "metadata": {
        "id": "oI4hwoIF9mO8",
        "colab_type": "code",
        "colab": {
          "base_uri": "https://localhost:8080/",
          "height": 34
        },
        "outputId": "9c262b49-def6-4c8f-def3-0307ee44ed10"
      },
      "source": [
        "merge_data.shape"
      ],
      "execution_count": 429,
      "outputs": [
        {
          "output_type": "execute_result",
          "data": {
            "text/plain": [
              "(14999, 11)"
            ]
          },
          "metadata": {
            "tags": []
          },
          "execution_count": 429
        }
      ]
    },
    {
      "cell_type": "code",
      "metadata": {
        "id": "CJfg9N_-9n4-",
        "colab_type": "code",
        "colab": {}
      },
      "source": [
        "# drop employee_id from data:\n",
        "merge_data = merge_data.drop(columns = [\"employee_id\"])"
      ],
      "execution_count": 430,
      "outputs": []
    },
    {
      "cell_type": "code",
      "metadata": {
        "id": "Px1QLDVp-tra",
        "colab_type": "code",
        "colab": {
          "base_uri": "https://localhost:8080/",
          "height": 215
        },
        "outputId": "5fa7e78a-480a-41fa-82d1-8b699e91f181"
      },
      "source": [
        "merge_data.head()"
      ],
      "execution_count": 431,
      "outputs": [
        {
          "output_type": "execute_result",
          "data": {
            "text/html": [
              "<div>\n",
              "<style scoped>\n",
              "    .dataframe tbody tr th:only-of-type {\n",
              "        vertical-align: middle;\n",
              "    }\n",
              "\n",
              "    .dataframe tbody tr th {\n",
              "        vertical-align: top;\n",
              "    }\n",
              "\n",
              "    .dataframe thead th {\n",
              "        text-align: right;\n",
              "    }\n",
              "</style>\n",
              "<table border=\"1\" class=\"dataframe\">\n",
              "  <thead>\n",
              "    <tr style=\"text-align: right;\">\n",
              "      <th></th>\n",
              "      <th>number_project</th>\n",
              "      <th>average_montly_hours</th>\n",
              "      <th>time_spend_company</th>\n",
              "      <th>Work_accident</th>\n",
              "      <th>promotion_last_5years</th>\n",
              "      <th>department</th>\n",
              "      <th>salary</th>\n",
              "      <th>left</th>\n",
              "      <th>satisfaction_level</th>\n",
              "      <th>last_evaluation</th>\n",
              "    </tr>\n",
              "  </thead>\n",
              "  <tbody>\n",
              "    <tr>\n",
              "      <th>0</th>\n",
              "      <td>2</td>\n",
              "      <td>157</td>\n",
              "      <td>3</td>\n",
              "      <td>0</td>\n",
              "      <td>0</td>\n",
              "      <td>sales</td>\n",
              "      <td>low</td>\n",
              "      <td>1</td>\n",
              "      <td>0.38</td>\n",
              "      <td>0.53</td>\n",
              "    </tr>\n",
              "    <tr>\n",
              "      <th>1</th>\n",
              "      <td>5</td>\n",
              "      <td>262</td>\n",
              "      <td>6</td>\n",
              "      <td>0</td>\n",
              "      <td>0</td>\n",
              "      <td>sales</td>\n",
              "      <td>medium</td>\n",
              "      <td>1</td>\n",
              "      <td>0.80</td>\n",
              "      <td>0.86</td>\n",
              "    </tr>\n",
              "    <tr>\n",
              "      <th>2</th>\n",
              "      <td>7</td>\n",
              "      <td>272</td>\n",
              "      <td>4</td>\n",
              "      <td>0</td>\n",
              "      <td>0</td>\n",
              "      <td>sales</td>\n",
              "      <td>medium</td>\n",
              "      <td>1</td>\n",
              "      <td>0.11</td>\n",
              "      <td>0.88</td>\n",
              "    </tr>\n",
              "    <tr>\n",
              "      <th>3</th>\n",
              "      <td>5</td>\n",
              "      <td>223</td>\n",
              "      <td>5</td>\n",
              "      <td>0</td>\n",
              "      <td>0</td>\n",
              "      <td>sales</td>\n",
              "      <td>low</td>\n",
              "      <td>1</td>\n",
              "      <td>0.72</td>\n",
              "      <td>0.87</td>\n",
              "    </tr>\n",
              "    <tr>\n",
              "      <th>4</th>\n",
              "      <td>2</td>\n",
              "      <td>159</td>\n",
              "      <td>3</td>\n",
              "      <td>0</td>\n",
              "      <td>0</td>\n",
              "      <td>sales</td>\n",
              "      <td>low</td>\n",
              "      <td>1</td>\n",
              "      <td>0.37</td>\n",
              "      <td>0.52</td>\n",
              "    </tr>\n",
              "  </tbody>\n",
              "</table>\n",
              "</div>"
            ],
            "text/plain": [
              "   number_project  average_montly_hours  ...  satisfaction_level  last_evaluation\n",
              "0               2                   157  ...                0.38             0.53\n",
              "1               5                   262  ...                0.80             0.86\n",
              "2               7                   272  ...                0.11             0.88\n",
              "3               5                   223  ...                0.72             0.87\n",
              "4               2                   159  ...                0.37             0.52\n",
              "\n",
              "[5 rows x 10 columns]"
            ]
          },
          "metadata": {
            "tags": []
          },
          "execution_count": 431
        }
      ]
    },
    {
      "cell_type": "code",
      "metadata": {
        "id": "FhBL9E9B-vQo",
        "colab_type": "code",
        "colab": {}
      },
      "source": [
        "# moving target column to the end:\n",
        "cols_at_end = [\"left\"]\n",
        "merge_data = merge_data[[c for c in merge_data if c not in cols_at_end] \n",
        "        + [c for c in cols_at_end if c in merge_data]]"
      ],
      "execution_count": 432,
      "outputs": []
    },
    {
      "cell_type": "code",
      "metadata": {
        "id": "5o74OnzP-6nZ",
        "colab_type": "code",
        "colab": {
          "base_uri": "https://localhost:8080/",
          "height": 215
        },
        "outputId": "112400a9-7ed0-4a2d-9335-5dd41fd970ea"
      },
      "source": [
        "merge_data.head()"
      ],
      "execution_count": 433,
      "outputs": [
        {
          "output_type": "execute_result",
          "data": {
            "text/html": [
              "<div>\n",
              "<style scoped>\n",
              "    .dataframe tbody tr th:only-of-type {\n",
              "        vertical-align: middle;\n",
              "    }\n",
              "\n",
              "    .dataframe tbody tr th {\n",
              "        vertical-align: top;\n",
              "    }\n",
              "\n",
              "    .dataframe thead th {\n",
              "        text-align: right;\n",
              "    }\n",
              "</style>\n",
              "<table border=\"1\" class=\"dataframe\">\n",
              "  <thead>\n",
              "    <tr style=\"text-align: right;\">\n",
              "      <th></th>\n",
              "      <th>number_project</th>\n",
              "      <th>average_montly_hours</th>\n",
              "      <th>time_spend_company</th>\n",
              "      <th>Work_accident</th>\n",
              "      <th>promotion_last_5years</th>\n",
              "      <th>department</th>\n",
              "      <th>salary</th>\n",
              "      <th>satisfaction_level</th>\n",
              "      <th>last_evaluation</th>\n",
              "      <th>left</th>\n",
              "    </tr>\n",
              "  </thead>\n",
              "  <tbody>\n",
              "    <tr>\n",
              "      <th>0</th>\n",
              "      <td>2</td>\n",
              "      <td>157</td>\n",
              "      <td>3</td>\n",
              "      <td>0</td>\n",
              "      <td>0</td>\n",
              "      <td>sales</td>\n",
              "      <td>low</td>\n",
              "      <td>0.38</td>\n",
              "      <td>0.53</td>\n",
              "      <td>1</td>\n",
              "    </tr>\n",
              "    <tr>\n",
              "      <th>1</th>\n",
              "      <td>5</td>\n",
              "      <td>262</td>\n",
              "      <td>6</td>\n",
              "      <td>0</td>\n",
              "      <td>0</td>\n",
              "      <td>sales</td>\n",
              "      <td>medium</td>\n",
              "      <td>0.80</td>\n",
              "      <td>0.86</td>\n",
              "      <td>1</td>\n",
              "    </tr>\n",
              "    <tr>\n",
              "      <th>2</th>\n",
              "      <td>7</td>\n",
              "      <td>272</td>\n",
              "      <td>4</td>\n",
              "      <td>0</td>\n",
              "      <td>0</td>\n",
              "      <td>sales</td>\n",
              "      <td>medium</td>\n",
              "      <td>0.11</td>\n",
              "      <td>0.88</td>\n",
              "      <td>1</td>\n",
              "    </tr>\n",
              "    <tr>\n",
              "      <th>3</th>\n",
              "      <td>5</td>\n",
              "      <td>223</td>\n",
              "      <td>5</td>\n",
              "      <td>0</td>\n",
              "      <td>0</td>\n",
              "      <td>sales</td>\n",
              "      <td>low</td>\n",
              "      <td>0.72</td>\n",
              "      <td>0.87</td>\n",
              "      <td>1</td>\n",
              "    </tr>\n",
              "    <tr>\n",
              "      <th>4</th>\n",
              "      <td>2</td>\n",
              "      <td>159</td>\n",
              "      <td>3</td>\n",
              "      <td>0</td>\n",
              "      <td>0</td>\n",
              "      <td>sales</td>\n",
              "      <td>low</td>\n",
              "      <td>0.37</td>\n",
              "      <td>0.52</td>\n",
              "      <td>1</td>\n",
              "    </tr>\n",
              "  </tbody>\n",
              "</table>\n",
              "</div>"
            ],
            "text/plain": [
              "   number_project  average_montly_hours  ...  last_evaluation  left\n",
              "0               2                   157  ...             0.53     1\n",
              "1               5                   262  ...             0.86     1\n",
              "2               7                   272  ...             0.88     1\n",
              "3               5                   223  ...             0.87     1\n",
              "4               2                   159  ...             0.52     1\n",
              "\n",
              "[5 rows x 10 columns]"
            ]
          },
          "metadata": {
            "tags": []
          },
          "execution_count": 433
        }
      ]
    },
    {
      "cell_type": "code",
      "metadata": {
        "id": "HYOJTxFI-7wT",
        "colab_type": "code",
        "colab": {
          "base_uri": "https://localhost:8080/",
          "height": 393
        },
        "outputId": "71d1c075-bb16-41e1-c603-63057396a758"
      },
      "source": [
        "merge_data.groupby(\"department\").sum()"
      ],
      "execution_count": 434,
      "outputs": [
        {
          "output_type": "execute_result",
          "data": {
            "text/html": [
              "<div>\n",
              "<style scoped>\n",
              "    .dataframe tbody tr th:only-of-type {\n",
              "        vertical-align: middle;\n",
              "    }\n",
              "\n",
              "    .dataframe tbody tr th {\n",
              "        vertical-align: top;\n",
              "    }\n",
              "\n",
              "    .dataframe thead th {\n",
              "        text-align: right;\n",
              "    }\n",
              "</style>\n",
              "<table border=\"1\" class=\"dataframe\">\n",
              "  <thead>\n",
              "    <tr style=\"text-align: right;\">\n",
              "      <th></th>\n",
              "      <th>number_project</th>\n",
              "      <th>average_montly_hours</th>\n",
              "      <th>time_spend_company</th>\n",
              "      <th>Work_accident</th>\n",
              "      <th>promotion_last_5years</th>\n",
              "      <th>satisfaction_level</th>\n",
              "      <th>last_evaluation</th>\n",
              "      <th>left</th>\n",
              "    </tr>\n",
              "    <tr>\n",
              "      <th>department</th>\n",
              "      <th></th>\n",
              "      <th></th>\n",
              "      <th></th>\n",
              "      <th></th>\n",
              "      <th></th>\n",
              "      <th></th>\n",
              "      <th></th>\n",
              "      <th></th>\n",
              "    </tr>\n",
              "  </thead>\n",
              "  <tbody>\n",
              "    <tr>\n",
              "      <th>IT</th>\n",
              "      <td>4683</td>\n",
              "      <td>248119</td>\n",
              "      <td>4256</td>\n",
              "      <td>164</td>\n",
              "      <td>3</td>\n",
              "      <td>758.17283</td>\n",
              "      <td>879.452250</td>\n",
              "      <td>273</td>\n",
              "    </tr>\n",
              "    <tr>\n",
              "      <th>RandD</th>\n",
              "      <td>3033</td>\n",
              "      <td>158030</td>\n",
              "      <td>2650</td>\n",
              "      <td>134</td>\n",
              "      <td>27</td>\n",
              "      <td>487.80000</td>\n",
              "      <td>560.446125</td>\n",
              "      <td>121</td>\n",
              "    </tr>\n",
              "    <tr>\n",
              "      <th>accounting</th>\n",
              "      <td>2934</td>\n",
              "      <td>154292</td>\n",
              "      <td>2702</td>\n",
              "      <td>96</td>\n",
              "      <td>14</td>\n",
              "      <td>446.68283</td>\n",
              "      <td>550.706125</td>\n",
              "      <td>204</td>\n",
              "    </tr>\n",
              "    <tr>\n",
              "      <th>hr</th>\n",
              "      <td>2701</td>\n",
              "      <td>146828</td>\n",
              "      <td>2480</td>\n",
              "      <td>89</td>\n",
              "      <td>15</td>\n",
              "      <td>442.53566</td>\n",
              "      <td>524.006125</td>\n",
              "      <td>215</td>\n",
              "    </tr>\n",
              "    <tr>\n",
              "      <th>management</th>\n",
              "      <td>2432</td>\n",
              "      <td>126787</td>\n",
              "      <td>2711</td>\n",
              "      <td>103</td>\n",
              "      <td>69</td>\n",
              "      <td>391.76566</td>\n",
              "      <td>456.234499</td>\n",
              "      <td>91</td>\n",
              "    </tr>\n",
              "    <tr>\n",
              "      <th>marketing</th>\n",
              "      <td>3164</td>\n",
              "      <td>171073</td>\n",
              "      <td>3063</td>\n",
              "      <td>138</td>\n",
              "      <td>43</td>\n",
              "      <td>530.62283</td>\n",
              "      <td>613.946125</td>\n",
              "      <td>203</td>\n",
              "    </tr>\n",
              "    <tr>\n",
              "      <th>product_mng</th>\n",
              "      <td>3434</td>\n",
              "      <td>180369</td>\n",
              "      <td>3135</td>\n",
              "      <td>132</td>\n",
              "      <td>0</td>\n",
              "      <td>559.19566</td>\n",
              "      <td>644.662250</td>\n",
              "      <td>198</td>\n",
              "    </tr>\n",
              "    <tr>\n",
              "      <th>sales</th>\n",
              "      <td>15634</td>\n",
              "      <td>831773</td>\n",
              "      <td>14631</td>\n",
              "      <td>587</td>\n",
              "      <td>100</td>\n",
              "      <td>2543.77981</td>\n",
              "      <td>2938.236749</td>\n",
              "      <td>1014</td>\n",
              "    </tr>\n",
              "    <tr>\n",
              "      <th>support</th>\n",
              "      <td>8479</td>\n",
              "      <td>447490</td>\n",
              "      <td>7563</td>\n",
              "      <td>345</td>\n",
              "      <td>20</td>\n",
              "      <td>1377.90849</td>\n",
              "      <td>1611.534499</td>\n",
              "      <td>555</td>\n",
              "    </tr>\n",
              "    <tr>\n",
              "      <th>technical</th>\n",
              "      <td>10548</td>\n",
              "      <td>550793</td>\n",
              "      <td>9279</td>\n",
              "      <td>381</td>\n",
              "      <td>28</td>\n",
              "      <td>1653.37264</td>\n",
              "      <td>1961.930624</td>\n",
              "      <td>697</td>\n",
              "    </tr>\n",
              "  </tbody>\n",
              "</table>\n",
              "</div>"
            ],
            "text/plain": [
              "             number_project  average_montly_hours  ...  last_evaluation  left\n",
              "department                                         ...                       \n",
              "IT                     4683                248119  ...       879.452250   273\n",
              "RandD                  3033                158030  ...       560.446125   121\n",
              "accounting             2934                154292  ...       550.706125   204\n",
              "hr                     2701                146828  ...       524.006125   215\n",
              "management             2432                126787  ...       456.234499    91\n",
              "marketing              3164                171073  ...       613.946125   203\n",
              "product_mng            3434                180369  ...       644.662250   198\n",
              "sales                 15634                831773  ...      2938.236749  1014\n",
              "support                8479                447490  ...      1611.534499   555\n",
              "technical             10548                550793  ...      1961.930624   697\n",
              "\n",
              "[10 rows x 8 columns]"
            ]
          },
          "metadata": {
            "tags": []
          },
          "execution_count": 434
        }
      ]
    },
    {
      "cell_type": "code",
      "metadata": {
        "id": "UXRcfOjy_GXT",
        "colab_type": "code",
        "colab": {
          "base_uri": "https://localhost:8080/",
          "height": 393
        },
        "outputId": "b8738566-d6fc-4dac-8404-07c93a42965d"
      },
      "source": [
        "merge_data.groupby(\"department\").mean()"
      ],
      "execution_count": 435,
      "outputs": [
        {
          "output_type": "execute_result",
          "data": {
            "text/html": [
              "<div>\n",
              "<style scoped>\n",
              "    .dataframe tbody tr th:only-of-type {\n",
              "        vertical-align: middle;\n",
              "    }\n",
              "\n",
              "    .dataframe tbody tr th {\n",
              "        vertical-align: top;\n",
              "    }\n",
              "\n",
              "    .dataframe thead th {\n",
              "        text-align: right;\n",
              "    }\n",
              "</style>\n",
              "<table border=\"1\" class=\"dataframe\">\n",
              "  <thead>\n",
              "    <tr style=\"text-align: right;\">\n",
              "      <th></th>\n",
              "      <th>number_project</th>\n",
              "      <th>average_montly_hours</th>\n",
              "      <th>time_spend_company</th>\n",
              "      <th>Work_accident</th>\n",
              "      <th>promotion_last_5years</th>\n",
              "      <th>satisfaction_level</th>\n",
              "      <th>last_evaluation</th>\n",
              "      <th>left</th>\n",
              "    </tr>\n",
              "    <tr>\n",
              "      <th>department</th>\n",
              "      <th></th>\n",
              "      <th></th>\n",
              "      <th></th>\n",
              "      <th></th>\n",
              "      <th></th>\n",
              "      <th></th>\n",
              "      <th></th>\n",
              "      <th></th>\n",
              "    </tr>\n",
              "  </thead>\n",
              "  <tbody>\n",
              "    <tr>\n",
              "      <th>IT</th>\n",
              "      <td>3.816626</td>\n",
              "      <td>202.215974</td>\n",
              "      <td>3.468623</td>\n",
              "      <td>0.133659</td>\n",
              "      <td>0.002445</td>\n",
              "      <td>0.617908</td>\n",
              "      <td>0.716750</td>\n",
              "      <td>0.222494</td>\n",
              "    </tr>\n",
              "    <tr>\n",
              "      <th>RandD</th>\n",
              "      <td>3.853875</td>\n",
              "      <td>200.800508</td>\n",
              "      <td>3.367217</td>\n",
              "      <td>0.170267</td>\n",
              "      <td>0.034307</td>\n",
              "      <td>0.619822</td>\n",
              "      <td>0.712130</td>\n",
              "      <td>0.153748</td>\n",
              "    </tr>\n",
              "    <tr>\n",
              "      <th>accounting</th>\n",
              "      <td>3.825293</td>\n",
              "      <td>201.162973</td>\n",
              "      <td>3.522816</td>\n",
              "      <td>0.125163</td>\n",
              "      <td>0.018253</td>\n",
              "      <td>0.582377</td>\n",
              "      <td>0.718000</td>\n",
              "      <td>0.265971</td>\n",
              "    </tr>\n",
              "    <tr>\n",
              "      <th>hr</th>\n",
              "      <td>3.654939</td>\n",
              "      <td>198.684709</td>\n",
              "      <td>3.355886</td>\n",
              "      <td>0.120433</td>\n",
              "      <td>0.020298</td>\n",
              "      <td>0.598830</td>\n",
              "      <td>0.709075</td>\n",
              "      <td>0.290934</td>\n",
              "    </tr>\n",
              "    <tr>\n",
              "      <th>management</th>\n",
              "      <td>3.860317</td>\n",
              "      <td>201.249206</td>\n",
              "      <td>4.303175</td>\n",
              "      <td>0.163492</td>\n",
              "      <td>0.109524</td>\n",
              "      <td>0.621850</td>\n",
              "      <td>0.724182</td>\n",
              "      <td>0.144444</td>\n",
              "    </tr>\n",
              "    <tr>\n",
              "      <th>marketing</th>\n",
              "      <td>3.687646</td>\n",
              "      <td>199.385781</td>\n",
              "      <td>3.569930</td>\n",
              "      <td>0.160839</td>\n",
              "      <td>0.050117</td>\n",
              "      <td>0.618442</td>\n",
              "      <td>0.715555</td>\n",
              "      <td>0.236597</td>\n",
              "    </tr>\n",
              "    <tr>\n",
              "      <th>product_mng</th>\n",
              "      <td>3.807095</td>\n",
              "      <td>199.965632</td>\n",
              "      <td>3.475610</td>\n",
              "      <td>0.146341</td>\n",
              "      <td>0.000000</td>\n",
              "      <td>0.619951</td>\n",
              "      <td>0.714703</td>\n",
              "      <td>0.219512</td>\n",
              "    </tr>\n",
              "    <tr>\n",
              "      <th>sales</th>\n",
              "      <td>3.776329</td>\n",
              "      <td>200.911353</td>\n",
              "      <td>3.534058</td>\n",
              "      <td>0.141787</td>\n",
              "      <td>0.024155</td>\n",
              "      <td>0.614440</td>\n",
              "      <td>0.709719</td>\n",
              "      <td>0.244928</td>\n",
              "    </tr>\n",
              "    <tr>\n",
              "      <th>support</th>\n",
              "      <td>3.803948</td>\n",
              "      <td>200.758188</td>\n",
              "      <td>3.393001</td>\n",
              "      <td>0.154778</td>\n",
              "      <td>0.008973</td>\n",
              "      <td>0.618173</td>\n",
              "      <td>0.722985</td>\n",
              "      <td>0.248991</td>\n",
              "    </tr>\n",
              "    <tr>\n",
              "      <th>technical</th>\n",
              "      <td>3.877941</td>\n",
              "      <td>202.497426</td>\n",
              "      <td>3.411397</td>\n",
              "      <td>0.140074</td>\n",
              "      <td>0.010294</td>\n",
              "      <td>0.607858</td>\n",
              "      <td>0.721298</td>\n",
              "      <td>0.256250</td>\n",
              "    </tr>\n",
              "  </tbody>\n",
              "</table>\n",
              "</div>"
            ],
            "text/plain": [
              "             number_project  average_montly_hours  ...  last_evaluation      left\n",
              "department                                         ...                           \n",
              "IT                 3.816626            202.215974  ...         0.716750  0.222494\n",
              "RandD              3.853875            200.800508  ...         0.712130  0.153748\n",
              "accounting         3.825293            201.162973  ...         0.718000  0.265971\n",
              "hr                 3.654939            198.684709  ...         0.709075  0.290934\n",
              "management         3.860317            201.249206  ...         0.724182  0.144444\n",
              "marketing          3.687646            199.385781  ...         0.715555  0.236597\n",
              "product_mng        3.807095            199.965632  ...         0.714703  0.219512\n",
              "sales              3.776329            200.911353  ...         0.709719  0.244928\n",
              "support            3.803948            200.758188  ...         0.722985  0.248991\n",
              "technical          3.877941            202.497426  ...         0.721298  0.256250\n",
              "\n",
              "[10 rows x 8 columns]"
            ]
          },
          "metadata": {
            "tags": []
          },
          "execution_count": 435
        }
      ]
    },
    {
      "cell_type": "code",
      "metadata": {
        "id": "xxKxC3rM_K2s",
        "colab_type": "code",
        "colab": {
          "base_uri": "https://localhost:8080/",
          "height": 218
        },
        "outputId": "bf90b496-64e4-4bd5-b661-8515e8299a2a"
      },
      "source": [
        "# proojects done department wise\n",
        "merge_data.groupby(\"department\")[\"number_project\"].count()"
      ],
      "execution_count": 436,
      "outputs": [
        {
          "output_type": "execute_result",
          "data": {
            "text/plain": [
              "department\n",
              "IT             1227\n",
              "RandD           787\n",
              "accounting      767\n",
              "hr              739\n",
              "management      630\n",
              "marketing       858\n",
              "product_mng     902\n",
              "sales          4140\n",
              "support        2229\n",
              "technical      2720\n",
              "Name: number_project, dtype: int64"
            ]
          },
          "metadata": {
            "tags": []
          },
          "execution_count": 436
        }
      ]
    },
    {
      "cell_type": "code",
      "metadata": {
        "id": "sDrweShR_TuU",
        "colab_type": "code",
        "colab": {
          "base_uri": "https://localhost:8080/",
          "height": 218
        },
        "outputId": "7b8453be-4b91-49cc-829c-aedd25b9a869"
      },
      "source": [
        "# time spent in company department wise\n",
        "merge_data.groupby(\"department\")[\"time_spend_company\"].sum()"
      ],
      "execution_count": 437,
      "outputs": [
        {
          "output_type": "execute_result",
          "data": {
            "text/plain": [
              "department\n",
              "IT              4256\n",
              "RandD           2650\n",
              "accounting      2702\n",
              "hr              2480\n",
              "management      2711\n",
              "marketing       3063\n",
              "product_mng     3135\n",
              "sales          14631\n",
              "support         7563\n",
              "technical       9279\n",
              "Name: time_spend_company, dtype: int64"
            ]
          },
          "metadata": {
            "tags": []
          },
          "execution_count": 437
        }
      ]
    },
    {
      "cell_type": "code",
      "metadata": {
        "id": "5JEdBT_H_xtL",
        "colab_type": "code",
        "colab": {
          "base_uri": "https://localhost:8080/",
          "height": 605
        },
        "outputId": "c7d700e5-48cb-401a-f40e-d5176de4f49d"
      },
      "source": [
        "# Correlation matrix function:\n",
        "\n",
        "plt.figure(figsize = (8, 8))\n",
        "sns.heatmap(merge_data.corr(), cmap = \"BuPu\", annot = True)\n",
        "plt.show()"
      ],
      "execution_count": 438,
      "outputs": [
        {
          "output_type": "display_data",
          "data": {
            "image/png": "[encoded data removed]",
            "text/plain": [
              "<Figure size 576x576 with 2 Axes>"
            ]
          },
          "metadata": {
            "tags": []
          }
        }
      ]
    },
    {
      "cell_type": "code",
      "metadata": {
        "id": "fIdYv_oZBQFa",
        "colab_type": "code",
        "colab": {}
      },
      "source": [
        "# One-Hot-Encoding using pandas:\n",
        "\n",
        "categorical_columns = merge_data.select_dtypes(include = [\"object\"]).columns\n",
        "merge_data_final = pd.get_dummies(merge_data, columns = categorical_columns , drop_first = True)"
      ],
      "execution_count": 439,
      "outputs": []
    },
    {
      "cell_type": "code",
      "metadata": {
        "id": "JtfQmK7NDdw0",
        "colab_type": "code",
        "colab": {
          "base_uri": "https://localhost:8080/",
          "height": 215
        },
        "outputId": "5b945b36-39f0-469d-a6a6-ab2690b400c3"
      },
      "source": [
        "# no categorical columns\n",
        "merge_data_final.head()"
      ],
      "execution_count": 440,
      "outputs": [
        {
          "output_type": "execute_result",
          "data": {
            "text/html": [
              "<div>\n",
              "<style scoped>\n",
              "    .dataframe tbody tr th:only-of-type {\n",
              "        vertical-align: middle;\n",
              "    }\n",
              "\n",
              "    .dataframe tbody tr th {\n",
              "        vertical-align: top;\n",
              "    }\n",
              "\n",
              "    .dataframe thead th {\n",
              "        text-align: right;\n",
              "    }\n",
              "</style>\n",
              "<table border=\"1\" class=\"dataframe\">\n",
              "  <thead>\n",
              "    <tr style=\"text-align: right;\">\n",
              "      <th></th>\n",
              "      <th>number_project</th>\n",
              "      <th>average_montly_hours</th>\n",
              "      <th>time_spend_company</th>\n",
              "      <th>Work_accident</th>\n",
              "      <th>promotion_last_5years</th>\n",
              "      <th>satisfaction_level</th>\n",
              "      <th>last_evaluation</th>\n",
              "      <th>left</th>\n",
              "      <th>department_RandD</th>\n",
              "      <th>department_accounting</th>\n",
              "      <th>department_hr</th>\n",
              "      <th>department_management</th>\n",
              "      <th>department_marketing</th>\n",
              "      <th>department_product_mng</th>\n",
              "      <th>department_sales</th>\n",
              "      <th>department_support</th>\n",
              "      <th>department_technical</th>\n",
              "      <th>salary_low</th>\n",
              "      <th>salary_medium</th>\n",
              "    </tr>\n",
              "  </thead>\n",
              "  <tbody>\n",
              "    <tr>\n",
              "      <th>0</th>\n",
              "      <td>2</td>\n",
              "      <td>157</td>\n",
              "      <td>3</td>\n",
              "      <td>0</td>\n",
              "      <td>0</td>\n",
              "      <td>0.38</td>\n",
              "      <td>0.53</td>\n",
              "      <td>1</td>\n",
              "      <td>0</td>\n",
              "      <td>0</td>\n",
              "      <td>0</td>\n",
              "      <td>0</td>\n",
              "      <td>0</td>\n",
              "      <td>0</td>\n",
              "      <td>1</td>\n",
              "      <td>0</td>\n",
              "      <td>0</td>\n",
              "      <td>1</td>\n",
              "      <td>0</td>\n",
              "    </tr>\n",
              "    <tr>\n",
              "      <th>1</th>\n",
              "      <td>5</td>\n",
              "      <td>262</td>\n",
              "      <td>6</td>\n",
              "      <td>0</td>\n",
              "      <td>0</td>\n",
              "      <td>0.80</td>\n",
              "      <td>0.86</td>\n",
              "      <td>1</td>\n",
              "      <td>0</td>\n",
              "      <td>0</td>\n",
              "      <td>0</td>\n",
              "      <td>0</td>\n",
              "      <td>0</td>\n",
              "      <td>0</td>\n",
              "      <td>1</td>\n",
              "      <td>0</td>\n",
              "      <td>0</td>\n",
              "      <td>0</td>\n",
              "      <td>1</td>\n",
              "    </tr>\n",
              "    <tr>\n",
              "      <th>2</th>\n",
              "      <td>7</td>\n",
              "      <td>272</td>\n",
              "      <td>4</td>\n",
              "      <td>0</td>\n",
              "      <td>0</td>\n",
              "      <td>0.11</td>\n",
              "      <td>0.88</td>\n",
              "      <td>1</td>\n",
              "      <td>0</td>\n",
              "      <td>0</td>\n",
              "      <td>0</td>\n",
              "      <td>0</td>\n",
              "      <td>0</td>\n",
              "      <td>0</td>\n",
              "      <td>1</td>\n",
              "      <td>0</td>\n",
              "      <td>0</td>\n",
              "      <td>0</td>\n",
              "      <td>1</td>\n",
              "    </tr>\n",
              "    <tr>\n",
              "      <th>3</th>\n",
              "      <td>5</td>\n",
              "      <td>223</td>\n",
              "      <td>5</td>\n",
              "      <td>0</td>\n",
              "      <td>0</td>\n",
              "      <td>0.72</td>\n",
              "      <td>0.87</td>\n",
              "      <td>1</td>\n",
              "      <td>0</td>\n",
              "      <td>0</td>\n",
              "      <td>0</td>\n",
              "      <td>0</td>\n",
              "      <td>0</td>\n",
              "      <td>0</td>\n",
              "      <td>1</td>\n",
              "      <td>0</td>\n",
              "      <td>0</td>\n",
              "      <td>1</td>\n",
              "      <td>0</td>\n",
              "    </tr>\n",
              "    <tr>\n",
              "      <th>4</th>\n",
              "      <td>2</td>\n",
              "      <td>159</td>\n",
              "      <td>3</td>\n",
              "      <td>0</td>\n",
              "      <td>0</td>\n",
              "      <td>0.37</td>\n",
              "      <td>0.52</td>\n",
              "      <td>1</td>\n",
              "      <td>0</td>\n",
              "      <td>0</td>\n",
              "      <td>0</td>\n",
              "      <td>0</td>\n",
              "      <td>0</td>\n",
              "      <td>0</td>\n",
              "      <td>1</td>\n",
              "      <td>0</td>\n",
              "      <td>0</td>\n",
              "      <td>1</td>\n",
              "      <td>0</td>\n",
              "    </tr>\n",
              "  </tbody>\n",
              "</table>\n",
              "</div>"
            ],
            "text/plain": [
              "   number_project  average_montly_hours  ...  salary_low  salary_medium\n",
              "0               2                   157  ...           1              0\n",
              "1               5                   262  ...           0              1\n",
              "2               7                   272  ...           0              1\n",
              "3               5                   223  ...           1              0\n",
              "4               2                   159  ...           1              0\n",
              "\n",
              "[5 rows x 19 columns]"
            ]
          },
          "metadata": {
            "tags": []
          },
          "execution_count": 440
        }
      ]
    },
    {
      "cell_type": "code",
      "metadata": {
        "id": "i0aA7Vc4DtY9",
        "colab_type": "code",
        "colab": {
          "base_uri": "https://localhost:8080/",
          "height": 34
        },
        "outputId": "6439288b-15dd-4a59-e468-343fe2b8e583"
      },
      "source": [
        "merge_data_final.shape"
      ],
      "execution_count": 441,
      "outputs": [
        {
          "output_type": "execute_result",
          "data": {
            "text/plain": [
              "(14999, 19)"
            ]
          },
          "metadata": {
            "tags": []
          },
          "execution_count": 441
        }
      ]
    },
    {
      "cell_type": "code",
      "metadata": {
        "id": "ABT0kHdzEFlk",
        "colab_type": "code",
        "colab": {}
      },
      "source": [
        "# dataset now has 19 columns"
      ],
      "execution_count": 442,
      "outputs": []
    },
    {
      "cell_type": "code",
      "metadata": {
        "id": "T1MGyhChEJMF",
        "colab_type": "code",
        "colab": {}
      },
      "source": [
        "# spiltting data into dependent and independent variables:\n",
        "\n",
        "X = merge_data_final.drop(columns = [\"left\"]).values\n",
        "\n",
        "y = merge_data_final['left'].values\n"
      ],
      "execution_count": 443,
      "outputs": []
    },
    {
      "cell_type": "code",
      "metadata": {
        "id": "K61UZqi0GwYw",
        "colab_type": "code",
        "colab": {
          "base_uri": "https://localhost:8080/",
          "height": 34
        },
        "outputId": "030b6101-c21d-4a90-c458-8b23882bee95"
      },
      "source": [
        "len(X)"
      ],
      "execution_count": 444,
      "outputs": [
        {
          "output_type": "execute_result",
          "data": {
            "text/plain": [
              "14999"
            ]
          },
          "metadata": {
            "tags": []
          },
          "execution_count": 444
        }
      ]
    },
    {
      "cell_type": "code",
      "metadata": {
        "id": "p576syYJG0Y1",
        "colab_type": "code",
        "colab": {
          "base_uri": "https://localhost:8080/",
          "height": 34
        },
        "outputId": "e8ccaff6-5867-4191-feda-9b12eac2519e"
      },
      "source": [
        "len(y)"
      ],
      "execution_count": 445,
      "outputs": [
        {
          "output_type": "execute_result",
          "data": {
            "text/plain": [
              "14999"
            ]
          },
          "metadata": {
            "tags": []
          },
          "execution_count": 445
        }
      ]
    },
    {
      "cell_type": "code",
      "metadata": {
        "id": "qAd6-YvvGfbZ",
        "colab_type": "code",
        "colab": {}
      },
      "source": [
        "# split into train and test data\n",
        "from sklearn.model_selection import train_test_split\n",
        "\n",
        "X_train , X_test, y_train, y_test = train_test_split(X, y, test_size = 0.3)"
      ],
      "execution_count": 446,
      "outputs": []
    },
    {
      "cell_type": "code",
      "metadata": {
        "id": "t5InSj8LHIzn",
        "colab_type": "code",
        "colab": {}
      },
      "source": [
        "# Feature Scaling:\n",
        "\n",
        "from sklearn.preprocessing import StandardScaler\n",
        "\n",
        "sc = StandardScaler()\n",
        "X_train = sc.fit_transform(X_train)\n",
        "X_test = sc.transform(X_test)\n"
      ],
      "execution_count": 447,
      "outputs": []
    },
    {
      "cell_type": "code",
      "metadata": {
        "id": "sKMZ6yiDHicW",
        "colab_type": "code",
        "colab": {
          "base_uri": "https://localhost:8080/",
          "height": 363
        },
        "outputId": "846eb996-c712-4135-a6bf-545638e5bcf0"
      },
      "source": [
        "# Scaled train data:\n",
        "df_train = pd.DataFrame(X_train)\n",
        "df_train.head(10)"
      ],
      "execution_count": 448,
      "outputs": [
        {
          "output_type": "execute_result",
          "data": {
            "text/html": [
              "<div>\n",
              "<style scoped>\n",
              "    .dataframe tbody tr th:only-of-type {\n",
              "        vertical-align: middle;\n",
              "    }\n",
              "\n",
              "    .dataframe tbody tr th {\n",
              "        vertical-align: top;\n",
              "    }\n",
              "\n",
              "    .dataframe thead th {\n",
              "        text-align: right;\n",
              "    }\n",
              "</style>\n",
              "<table border=\"1\" class=\"dataframe\">\n",
              "  <thead>\n",
              "    <tr style=\"text-align: right;\">\n",
              "      <th></th>\n",
              "      <th>0</th>\n",
              "      <th>1</th>\n",
              "      <th>2</th>\n",
              "      <th>3</th>\n",
              "      <th>4</th>\n",
              "      <th>5</th>\n",
              "      <th>6</th>\n",
              "      <th>7</th>\n",
              "      <th>8</th>\n",
              "      <th>9</th>\n",
              "      <th>10</th>\n",
              "      <th>11</th>\n",
              "      <th>12</th>\n",
              "      <th>13</th>\n",
              "      <th>14</th>\n",
              "      <th>15</th>\n",
              "      <th>16</th>\n",
              "      <th>17</th>\n",
              "    </tr>\n",
              "  </thead>\n",
              "  <tbody>\n",
              "    <tr>\n",
              "      <th>0</th>\n",
              "      <td>0.169526</td>\n",
              "      <td>0.321971</td>\n",
              "      <td>-0.334991</td>\n",
              "      <td>-0.414128</td>\n",
              "      <td>-0.146297</td>\n",
              "      <td>0.750242</td>\n",
              "      <td>0.908643</td>\n",
              "      <td>-0.238486</td>\n",
              "      <td>-0.235797</td>\n",
              "      <td>-0.225723</td>\n",
              "      <td>-0.202611</td>\n",
              "      <td>-0.244669</td>\n",
              "      <td>-0.252658</td>\n",
              "      <td>-0.625124</td>\n",
              "      <td>-0.418852</td>\n",
              "      <td>-0.463552</td>\n",
              "      <td>-0.974884</td>\n",
              "      <td>1.141012</td>\n",
              "    </tr>\n",
              "    <tr>\n",
              "      <th>1</th>\n",
              "      <td>0.169526</td>\n",
              "      <td>0.442321</td>\n",
              "      <td>0.360082</td>\n",
              "      <td>-0.414128</td>\n",
              "      <td>-0.146297</td>\n",
              "      <td>0.184019</td>\n",
              "      <td>0.031475</td>\n",
              "      <td>-0.238486</td>\n",
              "      <td>-0.235797</td>\n",
              "      <td>-0.225723</td>\n",
              "      <td>-0.202611</td>\n",
              "      <td>-0.244669</td>\n",
              "      <td>-0.252658</td>\n",
              "      <td>-0.625124</td>\n",
              "      <td>-0.418852</td>\n",
              "      <td>-0.463552</td>\n",
              "      <td>1.025763</td>\n",
              "      <td>-0.876415</td>\n",
              "    </tr>\n",
              "    <tr>\n",
              "      <th>2</th>\n",
              "      <td>0.981130</td>\n",
              "      <td>0.803369</td>\n",
              "      <td>0.360082</td>\n",
              "      <td>-0.414128</td>\n",
              "      <td>-0.146297</td>\n",
              "      <td>0.062686</td>\n",
              "      <td>1.668855</td>\n",
              "      <td>4.193125</td>\n",
              "      <td>-0.235797</td>\n",
              "      <td>-0.225723</td>\n",
              "      <td>-0.202611</td>\n",
              "      <td>-0.244669</td>\n",
              "      <td>-0.252658</td>\n",
              "      <td>-0.625124</td>\n",
              "      <td>-0.418852</td>\n",
              "      <td>-0.463552</td>\n",
              "      <td>-0.974884</td>\n",
              "      <td>1.141012</td>\n",
              "    </tr>\n",
              "    <tr>\n",
              "      <th>3</th>\n",
              "      <td>-1.453683</td>\n",
              "      <td>-0.179485</td>\n",
              "      <td>-0.334991</td>\n",
              "      <td>-0.414128</td>\n",
              "      <td>-0.146297</td>\n",
              "      <td>0.709797</td>\n",
              "      <td>0.674731</td>\n",
              "      <td>-0.238486</td>\n",
              "      <td>-0.235797</td>\n",
              "      <td>-0.225723</td>\n",
              "      <td>-0.202611</td>\n",
              "      <td>-0.244669</td>\n",
              "      <td>-0.252658</td>\n",
              "      <td>-0.625124</td>\n",
              "      <td>2.387481</td>\n",
              "      <td>-0.463552</td>\n",
              "      <td>1.025763</td>\n",
              "      <td>-0.876415</td>\n",
              "    </tr>\n",
              "    <tr>\n",
              "      <th>4</th>\n",
              "      <td>-0.642079</td>\n",
              "      <td>1.224592</td>\n",
              "      <td>-1.030065</td>\n",
              "      <td>-0.414128</td>\n",
              "      <td>-0.146297</td>\n",
              "      <td>1.276020</td>\n",
              "      <td>1.025599</td>\n",
              "      <td>-0.238486</td>\n",
              "      <td>-0.235797</td>\n",
              "      <td>-0.225723</td>\n",
              "      <td>-0.202611</td>\n",
              "      <td>-0.244669</td>\n",
              "      <td>-0.252658</td>\n",
              "      <td>1.599682</td>\n",
              "      <td>-0.418852</td>\n",
              "      <td>-0.463552</td>\n",
              "      <td>1.025763</td>\n",
              "      <td>-0.876415</td>\n",
              "    </tr>\n",
              "    <tr>\n",
              "      <th>5</th>\n",
              "      <td>0.169526</td>\n",
              "      <td>-0.139368</td>\n",
              "      <td>-0.334991</td>\n",
              "      <td>-0.414128</td>\n",
              "      <td>-0.146297</td>\n",
              "      <td>-0.503537</td>\n",
              "      <td>0.674731</td>\n",
              "      <td>-0.238486</td>\n",
              "      <td>-0.235797</td>\n",
              "      <td>-0.225723</td>\n",
              "      <td>-0.202611</td>\n",
              "      <td>-0.244669</td>\n",
              "      <td>-0.252658</td>\n",
              "      <td>-0.625124</td>\n",
              "      <td>-0.418852</td>\n",
              "      <td>2.157253</td>\n",
              "      <td>-0.974884</td>\n",
              "      <td>1.141012</td>\n",
              "    </tr>\n",
              "    <tr>\n",
              "      <th>6</th>\n",
              "      <td>-0.642079</td>\n",
              "      <td>-0.019019</td>\n",
              "      <td>-0.334991</td>\n",
              "      <td>-0.414128</td>\n",
              "      <td>-0.146297</td>\n",
              "      <td>0.669353</td>\n",
              "      <td>1.259510</td>\n",
              "      <td>4.193125</td>\n",
              "      <td>-0.235797</td>\n",
              "      <td>-0.225723</td>\n",
              "      <td>-0.202611</td>\n",
              "      <td>-0.244669</td>\n",
              "      <td>-0.252658</td>\n",
              "      <td>-0.625124</td>\n",
              "      <td>-0.418852</td>\n",
              "      <td>-0.463552</td>\n",
              "      <td>1.025763</td>\n",
              "      <td>-0.876415</td>\n",
              "    </tr>\n",
              "    <tr>\n",
              "      <th>7</th>\n",
              "      <td>0.169526</td>\n",
              "      <td>0.642903</td>\n",
              "      <td>-0.334991</td>\n",
              "      <td>-0.414128</td>\n",
              "      <td>-0.146297</td>\n",
              "      <td>-0.018203</td>\n",
              "      <td>-0.553303</td>\n",
              "      <td>-0.238486</td>\n",
              "      <td>-0.235797</td>\n",
              "      <td>-0.225723</td>\n",
              "      <td>-0.202611</td>\n",
              "      <td>4.087162</td>\n",
              "      <td>-0.252658</td>\n",
              "      <td>-0.625124</td>\n",
              "      <td>-0.418852</td>\n",
              "      <td>-0.463552</td>\n",
              "      <td>-0.974884</td>\n",
              "      <td>1.141012</td>\n",
              "    </tr>\n",
              "    <tr>\n",
              "      <th>8</th>\n",
              "      <td>-0.642079</td>\n",
              "      <td>-0.480359</td>\n",
              "      <td>-0.334991</td>\n",
              "      <td>-0.414128</td>\n",
              "      <td>-0.146297</td>\n",
              "      <td>0.992909</td>\n",
              "      <td>0.733209</td>\n",
              "      <td>-0.238486</td>\n",
              "      <td>-0.235797</td>\n",
              "      <td>-0.225723</td>\n",
              "      <td>-0.202611</td>\n",
              "      <td>-0.244669</td>\n",
              "      <td>-0.252658</td>\n",
              "      <td>1.599682</td>\n",
              "      <td>-0.418852</td>\n",
              "      <td>-0.463552</td>\n",
              "      <td>-0.974884</td>\n",
              "      <td>1.141012</td>\n",
              "    </tr>\n",
              "    <tr>\n",
              "      <th>9</th>\n",
              "      <td>-0.642079</td>\n",
              "      <td>0.221680</td>\n",
              "      <td>-1.030065</td>\n",
              "      <td>-0.414128</td>\n",
              "      <td>-0.146297</td>\n",
              "      <td>1.235575</td>\n",
              "      <td>1.668855</td>\n",
              "      <td>-0.238486</td>\n",
              "      <td>-0.235797</td>\n",
              "      <td>-0.225723</td>\n",
              "      <td>-0.202611</td>\n",
              "      <td>-0.244669</td>\n",
              "      <td>-0.252658</td>\n",
              "      <td>-0.625124</td>\n",
              "      <td>2.387481</td>\n",
              "      <td>-0.463552</td>\n",
              "      <td>1.025763</td>\n",
              "      <td>-0.876415</td>\n",
              "    </tr>\n",
              "  </tbody>\n",
              "</table>\n",
              "</div>"
            ],
            "text/plain": [
              "         0         1         2   ...        15        16        17\n",
              "0  0.169526  0.321971 -0.334991  ... -0.463552 -0.974884  1.141012\n",
              "1  0.169526  0.442321  0.360082  ... -0.463552  1.025763 -0.876415\n",
              "2  0.981130  0.803369  0.360082  ... -0.463552 -0.974884  1.141012\n",
              "3 -1.453683 -0.179485 -0.334991  ... -0.463552  1.025763 -0.876415\n",
              "4 -0.642079  1.224592 -1.030065  ... -0.463552  1.025763 -0.876415\n",
              "5  0.169526 -0.139368 -0.334991  ...  2.157253 -0.974884  1.141012\n",
              "6 -0.642079 -0.019019 -0.334991  ... -0.463552  1.025763 -0.876415\n",
              "7  0.169526  0.642903 -0.334991  ... -0.463552 -0.974884  1.141012\n",
              "8 -0.642079 -0.480359 -0.334991  ... -0.463552 -0.974884  1.141012\n",
              "9 -0.642079  0.221680 -1.030065  ... -0.463552  1.025763 -0.876415\n",
              "\n",
              "[10 rows x 18 columns]"
            ]
          },
          "metadata": {
            "tags": []
          },
          "execution_count": 448
        }
      ]
    },
    {
      "cell_type": "code",
      "metadata": {
        "id": "o7qC5rD6HuC7",
        "colab_type": "code",
        "colab": {
          "base_uri": "https://localhost:8080/",
          "height": 580
        },
        "outputId": "844c02fc-7d72-4232-ef8c-5a710f096f89"
      },
      "source": [
        "df_train.describe().transpose()"
      ],
      "execution_count": 449,
      "outputs": [
        {
          "output_type": "execute_result",
          "data": {
            "text/html": [
              "<div>\n",
              "<style scoped>\n",
              "    .dataframe tbody tr th:only-of-type {\n",
              "        vertical-align: middle;\n",
              "    }\n",
              "\n",
              "    .dataframe tbody tr th {\n",
              "        vertical-align: top;\n",
              "    }\n",
              "\n",
              "    .dataframe thead th {\n",
              "        text-align: right;\n",
              "    }\n",
              "</style>\n",
              "<table border=\"1\" class=\"dataframe\">\n",
              "  <thead>\n",
              "    <tr style=\"text-align: right;\">\n",
              "      <th></th>\n",
              "      <th>count</th>\n",
              "      <th>mean</th>\n",
              "      <th>std</th>\n",
              "      <th>min</th>\n",
              "      <th>25%</th>\n",
              "      <th>50%</th>\n",
              "      <th>75%</th>\n",
              "      <th>max</th>\n",
              "    </tr>\n",
              "  </thead>\n",
              "  <tbody>\n",
              "    <tr>\n",
              "      <th>0</th>\n",
              "      <td>10499.0</td>\n",
              "      <td>-1.650689e-16</td>\n",
              "      <td>1.000048</td>\n",
              "      <td>-1.453683</td>\n",
              "      <td>-0.642079</td>\n",
              "      <td>0.169526</td>\n",
              "      <td>0.981130</td>\n",
              "      <td>2.604338</td>\n",
              "    </tr>\n",
              "    <tr>\n",
              "      <th>1</th>\n",
              "      <td>10499.0</td>\n",
              "      <td>-3.897783e-17</td>\n",
              "      <td>1.000048</td>\n",
              "      <td>-2.105077</td>\n",
              "      <td>-0.901582</td>\n",
              "      <td>-0.019019</td>\n",
              "      <td>0.883602</td>\n",
              "      <td>2.187388</td>\n",
              "    </tr>\n",
              "    <tr>\n",
              "      <th>2</th>\n",
              "      <td>10499.0</td>\n",
              "      <td>-3.234864e-16</td>\n",
              "      <td>1.000048</td>\n",
              "      <td>-1.030065</td>\n",
              "      <td>-0.334991</td>\n",
              "      <td>-0.334991</td>\n",
              "      <td>0.360082</td>\n",
              "      <td>4.530524</td>\n",
              "    </tr>\n",
              "    <tr>\n",
              "      <th>3</th>\n",
              "      <td>10499.0</td>\n",
              "      <td>7.473359e-16</td>\n",
              "      <td>1.000048</td>\n",
              "      <td>-0.414128</td>\n",
              "      <td>-0.414128</td>\n",
              "      <td>-0.414128</td>\n",
              "      <td>-0.414128</td>\n",
              "      <td>2.414713</td>\n",
              "    </tr>\n",
              "    <tr>\n",
              "      <th>4</th>\n",
              "      <td>10499.0</td>\n",
              "      <td>-1.027244e-15</td>\n",
              "      <td>1.000048</td>\n",
              "      <td>-0.146297</td>\n",
              "      <td>-0.146297</td>\n",
              "      <td>-0.146297</td>\n",
              "      <td>-0.146297</td>\n",
              "      <td>6.835402</td>\n",
              "    </tr>\n",
              "    <tr>\n",
              "      <th>5</th>\n",
              "      <td>10499.0</td>\n",
              "      <td>2.819207e-14</td>\n",
              "      <td>1.000048</td>\n",
              "      <td>-2.121316</td>\n",
              "      <td>-0.705759</td>\n",
              "      <td>0.103130</td>\n",
              "      <td>0.831131</td>\n",
              "      <td>1.559131</td>\n",
              "    </tr>\n",
              "    <tr>\n",
              "      <th>6</th>\n",
              "      <td>10499.0</td>\n",
              "      <td>2.708458e-14</td>\n",
              "      <td>1.000048</td>\n",
              "      <td>-2.073728</td>\n",
              "      <td>-0.904171</td>\n",
              "      <td>0.031475</td>\n",
              "      <td>0.908643</td>\n",
              "      <td>1.668855</td>\n",
              "    </tr>\n",
              "    <tr>\n",
              "      <th>7</th>\n",
              "      <td>10499.0</td>\n",
              "      <td>-7.446658e-16</td>\n",
              "      <td>1.000048</td>\n",
              "      <td>-0.238486</td>\n",
              "      <td>-0.238486</td>\n",
              "      <td>-0.238486</td>\n",
              "      <td>-0.238486</td>\n",
              "      <td>4.193125</td>\n",
              "    </tr>\n",
              "    <tr>\n",
              "      <th>8</th>\n",
              "      <td>10499.0</td>\n",
              "      <td>-5.076053e-16</td>\n",
              "      <td>1.000048</td>\n",
              "      <td>-0.235797</td>\n",
              "      <td>-0.235797</td>\n",
              "      <td>-0.235797</td>\n",
              "      <td>-0.235797</td>\n",
              "      <td>4.240935</td>\n",
              "    </tr>\n",
              "    <tr>\n",
              "      <th>9</th>\n",
              "      <td>10499.0</td>\n",
              "      <td>9.782525e-17</td>\n",
              "      <td>1.000048</td>\n",
              "      <td>-0.225723</td>\n",
              "      <td>-0.225723</td>\n",
              "      <td>-0.225723</td>\n",
              "      <td>-0.225723</td>\n",
              "      <td>4.430205</td>\n",
              "    </tr>\n",
              "    <tr>\n",
              "      <th>10</th>\n",
              "      <td>10499.0</td>\n",
              "      <td>-2.569988e-16</td>\n",
              "      <td>1.000048</td>\n",
              "      <td>-0.202611</td>\n",
              "      <td>-0.202611</td>\n",
              "      <td>-0.202611</td>\n",
              "      <td>-0.202611</td>\n",
              "      <td>4.935575</td>\n",
              "    </tr>\n",
              "    <tr>\n",
              "      <th>11</th>\n",
              "      <td>10499.0</td>\n",
              "      <td>-7.673746e-16</td>\n",
              "      <td>1.000048</td>\n",
              "      <td>-0.244669</td>\n",
              "      <td>-0.244669</td>\n",
              "      <td>-0.244669</td>\n",
              "      <td>-0.244669</td>\n",
              "      <td>4.087162</td>\n",
              "    </tr>\n",
              "    <tr>\n",
              "      <th>12</th>\n",
              "      <td>10499.0</td>\n",
              "      <td>-8.783176e-16</td>\n",
              "      <td>1.000048</td>\n",
              "      <td>-0.252658</td>\n",
              "      <td>-0.252658</td>\n",
              "      <td>-0.252658</td>\n",
              "      <td>-0.252658</td>\n",
              "      <td>3.957914</td>\n",
              "    </tr>\n",
              "    <tr>\n",
              "      <th>13</th>\n",
              "      <td>10499.0</td>\n",
              "      <td>-6.072335e-16</td>\n",
              "      <td>1.000048</td>\n",
              "      <td>-0.625124</td>\n",
              "      <td>-0.625124</td>\n",
              "      <td>-0.625124</td>\n",
              "      <td>1.599682</td>\n",
              "      <td>1.599682</td>\n",
              "    </tr>\n",
              "    <tr>\n",
              "      <th>14</th>\n",
              "      <td>10499.0</td>\n",
              "      <td>-4.502330e-16</td>\n",
              "      <td>1.000048</td>\n",
              "      <td>-0.418852</td>\n",
              "      <td>-0.418852</td>\n",
              "      <td>-0.418852</td>\n",
              "      <td>-0.418852</td>\n",
              "      <td>2.387481</td>\n",
              "    </tr>\n",
              "    <tr>\n",
              "      <th>15</th>\n",
              "      <td>10499.0</td>\n",
              "      <td>9.779353e-17</td>\n",
              "      <td>1.000048</td>\n",
              "      <td>-0.463552</td>\n",
              "      <td>-0.463552</td>\n",
              "      <td>-0.463552</td>\n",
              "      <td>-0.463552</td>\n",
              "      <td>2.157253</td>\n",
              "    </tr>\n",
              "    <tr>\n",
              "      <th>16</th>\n",
              "      <td>10499.0</td>\n",
              "      <td>-5.989008e-16</td>\n",
              "      <td>1.000048</td>\n",
              "      <td>-0.974884</td>\n",
              "      <td>-0.974884</td>\n",
              "      <td>-0.974884</td>\n",
              "      <td>1.025763</td>\n",
              "      <td>1.025763</td>\n",
              "    </tr>\n",
              "    <tr>\n",
              "      <th>17</th>\n",
              "      <td>10499.0</td>\n",
              "      <td>5.288760e-16</td>\n",
              "      <td>1.000048</td>\n",
              "      <td>-0.876415</td>\n",
              "      <td>-0.876415</td>\n",
              "      <td>-0.876415</td>\n",
              "      <td>1.141012</td>\n",
              "      <td>1.141012</td>\n",
              "    </tr>\n",
              "  </tbody>\n",
              "</table>\n",
              "</div>"
            ],
            "text/plain": [
              "      count          mean       std  ...       50%       75%       max\n",
              "0   10499.0 -1.650689e-16  1.000048  ...  0.169526  0.981130  2.604338\n",
              "1   10499.0 -3.897783e-17  1.000048  ... -0.019019  0.883602  2.187388\n",
              "2   10499.0 -3.234864e-16  1.000048  ... -0.334991  0.360082  4.530524\n",
              "3   10499.0  7.473359e-16  1.000048  ... -0.414128 -0.414128  2.414713\n",
              "4   10499.0 -1.027244e-15  1.000048  ... -0.146297 -0.146297  6.835402\n",
              "5   10499.0  2.819207e-14  1.000048  ...  0.103130  0.831131  1.559131\n",
              "6   10499.0  2.708458e-14  1.000048  ...  0.031475  0.908643  1.668855\n",
              "7   10499.0 -7.446658e-16  1.000048  ... -0.238486 -0.238486  4.193125\n",
              "8   10499.0 -5.076053e-16  1.000048  ... -0.235797 -0.235797  4.240935\n",
              "9   10499.0  9.782525e-17  1.000048  ... -0.225723 -0.225723  4.430205\n",
              "10  10499.0 -2.569988e-16  1.000048  ... -0.202611 -0.202611  4.935575\n",
              "11  10499.0 -7.673746e-16  1.000048  ... -0.244669 -0.244669  4.087162\n",
              "12  10499.0 -8.783176e-16  1.000048  ... -0.252658 -0.252658  3.957914\n",
              "13  10499.0 -6.072335e-16  1.000048  ... -0.625124  1.599682  1.599682\n",
              "14  10499.0 -4.502330e-16  1.000048  ... -0.418852 -0.418852  2.387481\n",
              "15  10499.0  9.779353e-17  1.000048  ... -0.463552 -0.463552  2.157253\n",
              "16  10499.0 -5.989008e-16  1.000048  ... -0.974884  1.025763  1.025763\n",
              "17  10499.0  5.288760e-16  1.000048  ... -0.876415  1.141012  1.141012\n",
              "\n",
              "[18 rows x 8 columns]"
            ]
          },
          "metadata": {
            "tags": []
          },
          "execution_count": 449
        }
      ]
    },
    {
      "cell_type": "code",
      "metadata": {
        "id": "r0uLYoT8H9p2",
        "colab_type": "code",
        "colab": {}
      },
      "source": [
        "# Model 1 : Logistic Regression \n",
        "\n",
        "from sklearn.linear_model import LogisticRegression\n",
        "\n",
        "log_reg_model = LogisticRegression()"
      ],
      "execution_count": 450,
      "outputs": []
    },
    {
      "cell_type": "code",
      "metadata": {
        "id": "yTaoI9CVISHy",
        "colab_type": "code",
        "colab": {
          "base_uri": "https://localhost:8080/",
          "height": 101
        },
        "outputId": "01024c35-9a4b-4f33-993c-d125ade6e4fa"
      },
      "source": [
        "log_reg_model.fit(X_train, y_train)"
      ],
      "execution_count": 451,
      "outputs": [
        {
          "output_type": "execute_result",
          "data": {
            "text/plain": [
              "LogisticRegression(C=1.0, class_weight=None, dual=False, fit_intercept=True,\n",
              "                   intercept_scaling=1, l1_ratio=None, max_iter=100,\n",
              "                   multi_class='auto', n_jobs=None, penalty='l2',\n",
              "                   random_state=None, solver='lbfgs', tol=0.0001, verbose=0,\n",
              "                   warm_start=False)"
            ]
          },
          "metadata": {
            "tags": []
          },
          "execution_count": 451
        }
      ]
    },
    {
      "cell_type": "code",
      "metadata": {
        "id": "lwDBi3LvI9Z5",
        "colab_type": "code",
        "colab": {}
      },
      "source": [
        "y_predict = log_reg_model.predict(X_test)"
      ],
      "execution_count": 452,
      "outputs": []
    },
    {
      "cell_type": "code",
      "metadata": {
        "id": "QCkClaFBJD-e",
        "colab_type": "code",
        "colab": {
          "base_uri": "https://localhost:8080/",
          "height": 34
        },
        "outputId": "a07ffaab-9941-4e65-fde6-7dace5bac1fd"
      },
      "source": [
        "from sklearn.metrics import accuracy_score\n",
        "print(\"Accuracy of model is : \" + str( accuracy_score(y_test, y_predict)*100))"
      ],
      "execution_count": 453,
      "outputs": [
        {
          "output_type": "stream",
          "text": [
            "Accuracy of model is : 79.82222222222222\n"
          ],
          "name": "stdout"
        }
      ]
    },
    {
      "cell_type": "code",
      "metadata": {
        "id": "yicQ5_wQJWd0",
        "colab_type": "code",
        "colab": {
          "base_uri": "https://localhost:8080/",
          "height": 67
        },
        "outputId": "c0628064-4e6a-4ad6-f6e5-c0004361d01d"
      },
      "source": [
        "from sklearn.metrics import confusion_matrix\n",
        "print(\"Confusion matrix for the model is : \")\n",
        "print(confusion_matrix(y_test, y_predict))"
      ],
      "execution_count": 454,
      "outputs": [
        {
          "output_type": "stream",
          "text": [
            "Confusion matrix for the model is : \n",
            "[[3163  273]\n",
            " [ 635  429]]\n"
          ],
          "name": "stdout"
        }
      ]
    },
    {
      "cell_type": "code",
      "metadata": {
        "id": "xo5IlKumJ-Lr",
        "colab_type": "code",
        "colab": {
          "base_uri": "https://localhost:8080/",
          "height": 202
        },
        "outputId": "41766753-078c-4115-c7b0-2d81d0139345"
      },
      "source": [
        "from sklearn.metrics import classification_report\n",
        "print(\"Calssification Report for the model is : \\n\")\n",
        "print(classification_report(y_test, y_predict))"
      ],
      "execution_count": 455,
      "outputs": [
        {
          "output_type": "stream",
          "text": [
            "Calssification Report for the model is : \n",
            "\n",
            "              precision    recall  f1-score   support\n",
            "\n",
            "           0       0.83      0.92      0.87      3436\n",
            "           1       0.61      0.40      0.49      1064\n",
            "\n",
            "    accuracy                           0.80      4500\n",
            "   macro avg       0.72      0.66      0.68      4500\n",
            "weighted avg       0.78      0.80      0.78      4500\n",
            "\n"
          ],
          "name": "stdout"
        }
      ]
    },
    {
      "cell_type": "code",
      "metadata": {
        "id": "AjNiXCZVKKVz",
        "colab_type": "code",
        "colab": {}
      },
      "source": [
        "# Model 2: Random Forest Calssifier\n",
        "\n",
        "from sklearn.ensemble import RandomForestClassifier\n",
        "\n",
        "ran_for_model = RandomForestClassifier(n_estimators = 50)"
      ],
      "execution_count": 456,
      "outputs": []
    },
    {
      "cell_type": "code",
      "metadata": {
        "id": "tVOiTFF-K3-O",
        "colab_type": "code",
        "colab": {
          "base_uri": "https://localhost:8080/",
          "height": 151
        },
        "outputId": "ffbd603f-fbe7-400f-9a49-c82d87de3c5a"
      },
      "source": [
        "ran_for_model.fit(X_train, y_train)"
      ],
      "execution_count": 457,
      "outputs": [
        {
          "output_type": "execute_result",
          "data": {
            "text/plain": [
              "RandomForestClassifier(bootstrap=True, ccp_alpha=0.0, class_weight=None,\n",
              "                       criterion='gini', max_depth=None, max_features='auto',\n",
              "                       max_leaf_nodes=None, max_samples=None,\n",
              "                       min_impurity_decrease=0.0, min_impurity_split=None,\n",
              "                       min_samples_leaf=1, min_samples_split=2,\n",
              "                       min_weight_fraction_leaf=0.0, n_estimators=50,\n",
              "                       n_jobs=None, oob_score=False, random_state=None,\n",
              "                       verbose=0, warm_start=False)"
            ]
          },
          "metadata": {
            "tags": []
          },
          "execution_count": 457
        }
      ]
    },
    {
      "cell_type": "code",
      "metadata": {
        "id": "PRrtWL8zK35D",
        "colab_type": "code",
        "colab": {}
      },
      "source": [
        "y_predict_r = ran_for_model.predict(X_test)"
      ],
      "execution_count": 458,
      "outputs": []
    },
    {
      "cell_type": "code",
      "metadata": {
        "id": "Wi6UZyM5K34O",
        "colab_type": "code",
        "colab": {
          "base_uri": "https://localhost:8080/",
          "height": 34
        },
        "outputId": "7d8f8f39-f224-448f-dd34-080e49b6e6b4"
      },
      "source": [
        "from sklearn.metrics import accuracy_score\n",
        "print(\"Accuracy of model is : \" + str( accuracy_score(y_test, y_predict_r)*100))"
      ],
      "execution_count": 459,
      "outputs": [
        {
          "output_type": "stream",
          "text": [
            "Accuracy of model is : 98.66666666666667\n"
          ],
          "name": "stdout"
        }
      ]
    },
    {
      "cell_type": "code",
      "metadata": {
        "id": "Vyw3iElOK3z8",
        "colab_type": "code",
        "colab": {
          "base_uri": "https://localhost:8080/",
          "height": 84
        },
        "outputId": "a3d95e5f-9323-4b6c-f00f-db89b95a51ad"
      },
      "source": [
        "from sklearn.metrics import confusion_matrix\n",
        "print(\"Confusion matrix for the model is : \\n\")\n",
        "print(confusion_matrix(y_test, y_predict_r))"
      ],
      "execution_count": 460,
      "outputs": [
        {
          "output_type": "stream",
          "text": [
            "Confusion matrix for the model is : \n",
            "\n",
            "[[3425   11]\n",
            " [  49 1015]]\n"
          ],
          "name": "stdout"
        }
      ]
    },
    {
      "cell_type": "code",
      "metadata": {
        "id": "1Wa-HAxkK3zF",
        "colab_type": "code",
        "colab": {
          "base_uri": "https://localhost:8080/",
          "height": 202
        },
        "outputId": "8e3aa957-ed14-4fcf-a4c1-9abb3f685630"
      },
      "source": [
        "from sklearn.metrics import classification_report\n",
        "print(\"Calssification Report for the model is : \\n\")\n",
        "print(classification_report(y_test, y_predict_r))"
      ],
      "execution_count": 461,
      "outputs": [
        {
          "output_type": "stream",
          "text": [
            "Calssification Report for the model is : \n",
            "\n",
            "              precision    recall  f1-score   support\n",
            "\n",
            "           0       0.99      1.00      0.99      3436\n",
            "           1       0.99      0.95      0.97      1064\n",
            "\n",
            "    accuracy                           0.99      4500\n",
            "   macro avg       0.99      0.98      0.98      4500\n",
            "weighted avg       0.99      0.99      0.99      4500\n",
            "\n"
          ],
          "name": "stdout"
        }
      ]
    },
    {
      "cell_type": "code",
      "metadata": {
        "id": "-D9tJSmZ_NuW",
        "colab_type": "code",
        "colab": {}
      },
      "source": [
        "# Rank columns in terms of feature importances:\n",
        "\n",
        "feature_importances = pd.DataFrame(ran_for_model.feature_importances_,\n",
        "                                   index = pd.DataFrame(X_train).columns,\n",
        "                                   columns = [\"importance\"]).sort_values('importance', ascending = False)"
      ],
      "execution_count": 462,
      "outputs": []
    },
    {
      "cell_type": "code",
      "metadata": {
        "id": "QMc0CbHhAudn",
        "colab_type": "code",
        "colab": {
          "base_uri": "https://localhost:8080/",
          "height": 580
        },
        "outputId": "d5c9aaf0-79b3-4d87-c191-25cc4ff613fc"
      },
      "source": [
        "feature_importances"
      ],
      "execution_count": 463,
      "outputs": [
        {
          "output_type": "execute_result",
          "data": {
            "text/html": [
              "<div>\n",
              "<style scoped>\n",
              "    .dataframe tbody tr th:only-of-type {\n",
              "        vertical-align: middle;\n",
              "    }\n",
              "\n",
              "    .dataframe tbody tr th {\n",
              "        vertical-align: top;\n",
              "    }\n",
              "\n",
              "    .dataframe thead th {\n",
              "        text-align: right;\n",
              "    }\n",
              "</style>\n",
              "<table border=\"1\" class=\"dataframe\">\n",
              "  <thead>\n",
              "    <tr style=\"text-align: right;\">\n",
              "      <th></th>\n",
              "      <th>importance</th>\n",
              "    </tr>\n",
              "  </thead>\n",
              "  <tbody>\n",
              "    <tr>\n",
              "      <th>5</th>\n",
              "      <td>0.333597</td>\n",
              "    </tr>\n",
              "    <tr>\n",
              "      <th>0</th>\n",
              "      <td>0.185332</td>\n",
              "    </tr>\n",
              "    <tr>\n",
              "      <th>2</th>\n",
              "      <td>0.176062</td>\n",
              "    </tr>\n",
              "    <tr>\n",
              "      <th>1</th>\n",
              "      <td>0.141277</td>\n",
              "    </tr>\n",
              "    <tr>\n",
              "      <th>6</th>\n",
              "      <td>0.119894</td>\n",
              "    </tr>\n",
              "    <tr>\n",
              "      <th>3</th>\n",
              "      <td>0.009301</td>\n",
              "    </tr>\n",
              "    <tr>\n",
              "      <th>16</th>\n",
              "      <td>0.006917</td>\n",
              "    </tr>\n",
              "    <tr>\n",
              "      <th>15</th>\n",
              "      <td>0.004094</td>\n",
              "    </tr>\n",
              "    <tr>\n",
              "      <th>17</th>\n",
              "      <td>0.004081</td>\n",
              "    </tr>\n",
              "    <tr>\n",
              "      <th>13</th>\n",
              "      <td>0.004053</td>\n",
              "    </tr>\n",
              "    <tr>\n",
              "      <th>14</th>\n",
              "      <td>0.003205</td>\n",
              "    </tr>\n",
              "    <tr>\n",
              "      <th>7</th>\n",
              "      <td>0.001973</td>\n",
              "    </tr>\n",
              "    <tr>\n",
              "      <th>9</th>\n",
              "      <td>0.001953</td>\n",
              "    </tr>\n",
              "    <tr>\n",
              "      <th>10</th>\n",
              "      <td>0.001886</td>\n",
              "    </tr>\n",
              "    <tr>\n",
              "      <th>4</th>\n",
              "      <td>0.001856</td>\n",
              "    </tr>\n",
              "    <tr>\n",
              "      <th>8</th>\n",
              "      <td>0.001853</td>\n",
              "    </tr>\n",
              "    <tr>\n",
              "      <th>11</th>\n",
              "      <td>0.001360</td>\n",
              "    </tr>\n",
              "    <tr>\n",
              "      <th>12</th>\n",
              "      <td>0.001305</td>\n",
              "    </tr>\n",
              "  </tbody>\n",
              "</table>\n",
              "</div>"
            ],
            "text/plain": [
              "    importance\n",
              "5     0.333597\n",
              "0     0.185332\n",
              "2     0.176062\n",
              "1     0.141277\n",
              "6     0.119894\n",
              "3     0.009301\n",
              "16    0.006917\n",
              "15    0.004094\n",
              "17    0.004081\n",
              "13    0.004053\n",
              "14    0.003205\n",
              "7     0.001973\n",
              "9     0.001953\n",
              "10    0.001886\n",
              "4     0.001856\n",
              "8     0.001853\n",
              "11    0.001360\n",
              "12    0.001305"
            ]
          },
          "metadata": {
            "tags": []
          },
          "execution_count": 463
        }
      ]
    },
    {
      "cell_type": "code",
      "metadata": {
        "id": "McM5nxF-Az9I",
        "colab_type": "code",
        "colab": {}
      },
      "source": [
        "# 5th column is the most important : \"satisfaction_level\""
      ],
      "execution_count": 464,
      "outputs": []
    },
    {
      "cell_type": "code",
      "metadata": {
        "id": "c8L66dUdcUMS",
        "colab_type": "code",
        "colab": {}
      },
      "source": [
        "# Creating Deep Learning Classification models:"
      ],
      "execution_count": 465,
      "outputs": []
    },
    {
      "cell_type": "code",
      "metadata": {
        "id": "6rERIuCXK3us",
        "colab_type": "code",
        "colab": {
          "base_uri": "https://localhost:8080/",
          "height": 34
        },
        "outputId": "a15d5e66-f51a-490a-e0ed-7c66cd0b161e"
      },
      "source": [
        "# import tensorflow\n",
        "import tensorflow as tf\n",
        "\n",
        "%tensorflow_version 2.x\n",
        "print(tf.__version__)"
      ],
      "execution_count": 466,
      "outputs": [
        {
          "output_type": "stream",
          "text": [
            "2.2.0\n"
          ],
          "name": "stdout"
        }
      ]
    },
    {
      "cell_type": "code",
      "metadata": {
        "id": "QraOLpMKK3t2",
        "colab_type": "code",
        "colab": {}
      },
      "source": [
        "from tensorflow.keras.models import Sequential\n",
        "from tensorflow.keras.layers import Dense  "
      ],
      "execution_count": 467,
      "outputs": []
    },
    {
      "cell_type": "code",
      "metadata": {
        "id": "I7jBCepYK3oo",
        "colab_type": "code",
        "colab": {}
      },
      "source": [
        "# create model\n",
        "deep_classifier = Sequential()\n",
        "\n",
        "# add layers\n",
        "deep_classifier.add(Dense( 32, kernel_initializer= 'uniform' , activation = 'relu', input_dim = 18) )\n",
        "deep_classifier.add(Dense( 32, kernel_initializer= 'uniform' , activation = 'relu') )\n",
        "deep_classifier.add(Dense( 32, kernel_initializer= 'uniform' , activation = 'relu') )\n",
        "\n",
        "# output layer\n",
        "deep_classifier.add(Dense( 1, kernel_initializer= 'uniform' , activation = 'sigmoid') )\n"
      ],
      "execution_count": 468,
      "outputs": []
    },
    {
      "cell_type": "code",
      "metadata": {
        "id": "PxeozBQkK3nx",
        "colab_type": "code",
        "colab": {}
      },
      "source": [
        "# compile the model\n",
        "deep_classifier.compile(optimizer = 'adam' , loss = 'binary_crossentropy' , metrics = ['accuracy'])"
      ],
      "execution_count": 469,
      "outputs": []
    },
    {
      "cell_type": "code",
      "metadata": {
        "id": "fsL9eodZK3gl",
        "colab_type": "code",
        "colab": {
          "base_uri": "https://localhost:8080/",
          "height": 286
        },
        "outputId": "8f8c166e-d5a5-43d3-fa11-356dcd64310e"
      },
      "source": [
        "# summary of the model\n",
        "deep_classifier.summary()"
      ],
      "execution_count": 470,
      "outputs": [
        {
          "output_type": "stream",
          "text": [
            "Model: \"sequential_3\"\n",
            "_________________________________________________________________\n",
            "Layer (type)                 Output Shape              Param #   \n",
            "=================================================================\n",
            "dense_10 (Dense)             (None, 32)                608       \n",
            "_________________________________________________________________\n",
            "dense_11 (Dense)             (None, 32)                1056      \n",
            "_________________________________________________________________\n",
            "dense_12 (Dense)             (None, 32)                1056      \n",
            "_________________________________________________________________\n",
            "dense_13 (Dense)             (None, 1)                 33        \n",
            "=================================================================\n",
            "Total params: 2,753\n",
            "Trainable params: 2,753\n",
            "Non-trainable params: 0\n",
            "_________________________________________________________________\n"
          ],
          "name": "stdout"
        }
      ]
    },
    {
      "cell_type": "code",
      "metadata": {
        "id": "quhsO576K3Y8",
        "colab_type": "code",
        "colab": {
          "base_uri": "https://localhost:8080/",
          "height": 857
        },
        "outputId": "61221c40-e094-4d3a-ef45-aff8c34cbefb"
      },
      "source": [
        "# trainigng the model\n",
        "history = deep_classifier.fit(X_train,\n",
        "                              y_train,\n",
        "                              batch_size = 32,\n",
        "                              epochs = 25,\n",
        "                              verbose = 2,\n",
        "                              validation_data = (X_test, y_test) )\n"
      ],
      "execution_count": 471,
      "outputs": [
        {
          "output_type": "stream",
          "text": [
            "Epoch 1/25\n",
            "329/329 - 1s - loss: 0.4028 - accuracy: 0.8163 - val_loss: 0.2570 - val_accuracy: 0.9138\n",
            "Epoch 2/25\n",
            "329/329 - 1s - loss: 0.1944 - accuracy: 0.9403 - val_loss: 0.1532 - val_accuracy: 0.9509\n",
            "Epoch 3/25\n",
            "329/329 - 1s - loss: 0.1489 - accuracy: 0.9591 - val_loss: 0.1416 - val_accuracy: 0.9580\n",
            "Epoch 4/25\n",
            "329/329 - 1s - loss: 0.1387 - accuracy: 0.9620 - val_loss: 0.1374 - val_accuracy: 0.9582\n",
            "Epoch 5/25\n",
            "329/329 - 1s - loss: 0.1313 - accuracy: 0.9625 - val_loss: 0.1303 - val_accuracy: 0.9611\n",
            "Epoch 6/25\n",
            "329/329 - 1s - loss: 0.1257 - accuracy: 0.9640 - val_loss: 0.1396 - val_accuracy: 0.9589\n",
            "Epoch 7/25\n",
            "329/329 - 1s - loss: 0.1218 - accuracy: 0.9651 - val_loss: 0.1252 - val_accuracy: 0.9629\n",
            "Epoch 8/25\n",
            "329/329 - 1s - loss: 0.1203 - accuracy: 0.9662 - val_loss: 0.1261 - val_accuracy: 0.9616\n",
            "Epoch 9/25\n",
            "329/329 - 1s - loss: 0.1169 - accuracy: 0.9674 - val_loss: 0.1270 - val_accuracy: 0.9618\n",
            "Epoch 10/25\n",
            "329/329 - 1s - loss: 0.1131 - accuracy: 0.9682 - val_loss: 0.1264 - val_accuracy: 0.9616\n",
            "Epoch 11/25\n",
            "329/329 - 1s - loss: 0.1109 - accuracy: 0.9687 - val_loss: 0.1278 - val_accuracy: 0.9591\n",
            "Epoch 12/25\n",
            "329/329 - 1s - loss: 0.1103 - accuracy: 0.9669 - val_loss: 0.1219 - val_accuracy: 0.9638\n",
            "Epoch 13/25\n",
            "329/329 - 1s - loss: 0.1079 - accuracy: 0.9680 - val_loss: 0.1209 - val_accuracy: 0.9624\n",
            "Epoch 14/25\n",
            "329/329 - 1s - loss: 0.1054 - accuracy: 0.9694 - val_loss: 0.1250 - val_accuracy: 0.9620\n",
            "Epoch 15/25\n",
            "329/329 - 1s - loss: 0.1040 - accuracy: 0.9698 - val_loss: 0.1237 - val_accuracy: 0.9607\n",
            "Epoch 16/25\n",
            "329/329 - 1s - loss: 0.1018 - accuracy: 0.9707 - val_loss: 0.1225 - val_accuracy: 0.9649\n",
            "Epoch 17/25\n",
            "329/329 - 1s - loss: 0.1018 - accuracy: 0.9703 - val_loss: 0.1208 - val_accuracy: 0.9640\n",
            "Epoch 18/25\n",
            "329/329 - 1s - loss: 0.1006 - accuracy: 0.9704 - val_loss: 0.1317 - val_accuracy: 0.9616\n",
            "Epoch 19/25\n",
            "329/329 - 1s - loss: 0.0991 - accuracy: 0.9724 - val_loss: 0.1243 - val_accuracy: 0.9620\n",
            "Epoch 20/25\n",
            "329/329 - 1s - loss: 0.0984 - accuracy: 0.9720 - val_loss: 0.1169 - val_accuracy: 0.9660\n",
            "Epoch 21/25\n",
            "329/329 - 1s - loss: 0.0958 - accuracy: 0.9723 - val_loss: 0.1219 - val_accuracy: 0.9644\n",
            "Epoch 22/25\n",
            "329/329 - 1s - loss: 0.0922 - accuracy: 0.9744 - val_loss: 0.1214 - val_accuracy: 0.9649\n",
            "Epoch 23/25\n",
            "329/329 - 1s - loss: 0.0938 - accuracy: 0.9729 - val_loss: 0.1236 - val_accuracy: 0.9616\n",
            "Epoch 24/25\n",
            "329/329 - 1s - loss: 0.0915 - accuracy: 0.9731 - val_loss: 0.1206 - val_accuracy: 0.9633\n",
            "Epoch 25/25\n",
            "329/329 - 1s - loss: 0.0913 - accuracy: 0.9732 - val_loss: 0.1225 - val_accuracy: 0.9644\n"
          ],
          "name": "stdout"
        }
      ]
    },
    {
      "cell_type": "code",
      "metadata": {
        "id": "Fr56Ip62es0R",
        "colab_type": "code",
        "colab": {
          "base_uri": "https://localhost:8080/",
          "height": 34
        },
        "outputId": "feb29e0b-e44b-4ada-d9fb-ed5c9485765c"
      },
      "source": [
        "deep_classifier_test_score = deep_classifier.evaluate(X_test, y_test, verbose = 1)"
      ],
      "execution_count": 472,
      "outputs": [
        {
          "output_type": "stream",
          "text": [
            "141/141 [==============================] - 0s 1ms/step - loss: 0.1225 - accuracy: 0.9644\n"
          ],
          "name": "stdout"
        }
      ]
    },
    {
      "cell_type": "code",
      "metadata": {
        "id": "OyHR8QgzgpGs",
        "colab_type": "code",
        "colab": {
          "base_uri": "https://localhost:8080/",
          "height": 34
        },
        "outputId": "d8d797fa-e5f3-4f2a-ff98-d631e7ca7f31"
      },
      "source": [
        "print(\"Test loss is : \" + str(deep_classifier_test_score[0]))"
      ],
      "execution_count": 473,
      "outputs": [
        {
          "output_type": "stream",
          "text": [
            "Test loss is : 0.122513547539711\n"
          ],
          "name": "stdout"
        }
      ]
    },
    {
      "cell_type": "code",
      "metadata": {
        "id": "e5EjQM6cgy6J",
        "colab_type": "code",
        "colab": {
          "base_uri": "https://localhost:8080/",
          "height": 34
        },
        "outputId": "e03b6c24-3325-45d5-d6fb-c046bf2a8117"
      },
      "source": [
        "print(\"Test accuracy is : \" + str(deep_classifier_test_score[1]*100))"
      ],
      "execution_count": 474,
      "outputs": [
        {
          "output_type": "stream",
          "text": [
            "Test accuracy is : 96.44444584846497\n"
          ],
          "name": "stdout"
        }
      ]
    },
    {
      "cell_type": "code",
      "metadata": {
        "id": "_Uiu4BmBesyq",
        "colab_type": "code",
        "colab": {
          "base_uri": "https://localhost:8080/",
          "height": 134
        },
        "outputId": "9a866b4d-26bd-47ff-b99c-09100f5136bb"
      },
      "source": [
        "deep_classifier.predict(X_test)"
      ],
      "execution_count": 475,
      "outputs": [
        {
          "output_type": "execute_result",
          "data": {
            "text/plain": [
              "array([[9.9704599e-01],\n",
              "       [7.1654307e-05],\n",
              "       [8.1160665e-03],\n",
              "       ...,\n",
              "       [2.8031494e-03],\n",
              "       [9.9949491e-01],\n",
              "       [9.9981958e-01]], dtype=float32)"
            ]
          },
          "metadata": {
            "tags": []
          },
          "execution_count": 475
        }
      ]
    },
    {
      "cell_type": "code",
      "metadata": {
        "id": "5YPyFliPesvV",
        "colab_type": "code",
        "colab": {
          "base_uri": "https://localhost:8080/",
          "height": 339
        },
        "outputId": "217405ad-3624-42a6-cfe3-e2495f93e1cd"
      },
      "source": [
        "# Training vs Validation loss:\n",
        "\n",
        "history_dict = history.history\n",
        "\n",
        "loss_values = history_dict['loss']\n",
        "val_loss_values = history_dict['val_loss']\n",
        "epochs = range(1, len(loss_values) + 1)\n",
        "\n",
        "plt.figure(figsize = (10, 5))\n",
        "\n",
        "validation_line = plt.plot(epochs, val_loss_values, label = 'Validation/Test Loss')\n",
        "train_line = plt.plot(epochs, loss_values, label = 'Training Loss')\n",
        "\n",
        "plt.setp(validation_line , linewidth = 2.0, marker = '+', markersize = 10.0)\n",
        "plt.setp(train_line, linewidth = 2.0, marker = '4', markersize = 10.0)\n",
        "\n",
        "plt.xlabel('Epochs')\n",
        "plt.ylabel('Loss')\n",
        "plt.grid(True)\n",
        "plt.legend()\n",
        "plt.show()"
      ],
      "execution_count": 476,
      "outputs": [
        {
          "output_type": "display_data",
          "data": {
            "image/png": "[encoded data removed]",
            "text/plain": [
              "<Figure size 720x360 with 1 Axes>"
            ]
          },
          "metadata": {
            "tags": []
          }
        }
      ]
    },
    {
      "cell_type": "code",
      "metadata": {
        "id": "DVNwAbOCestn",
        "colab_type": "code",
        "colab": {
          "base_uri": "https://localhost:8080/",
          "height": 340
        },
        "outputId": "73f626bf-5be6-4d61-e443-7df63c201cee"
      },
      "source": [
        "# Training vs Validation Accuracy:\n",
        "\n",
        "history_dict = history.history\n",
        "\n",
        "accuracy_values = history_dict['accuracy']\n",
        "val_accuracy_values = history_dict['val_accuracy']\n",
        "epochs = range(1, len(accuracy_values) + 1)\n",
        "\n",
        "plt.figure(figsize = (10, 5))\n",
        "\n",
        "validation_line = plt.plot(epochs, val_accuracy_values, label = 'Validation/Test Accuracy')\n",
        "train_line = plt.plot(epochs, accuracy_values, label = 'Training Accuracy')\n",
        "\n",
        "plt.setp(validation_line , linewidth = 2.0, marker = '+', markersize = 10.0)\n",
        "plt.setp(train_line, linewidth = 2.0, marker = '4', markersize = 10.0)\n",
        "\n",
        "plt.xlabel('Epochs')\n",
        "plt.ylabel('Accuracy')\n",
        "plt.grid(True)\n",
        "plt.legend()\n",
        "plt.show()"
      ],
      "execution_count": 477,
      "outputs": [
        {
          "output_type": "display_data",
          "data": {
            "image/png": "[encoded data removed]",
            "text/plain": [
              "<Figure size 720x360 with 1 Axes>"
            ]
          },
          "metadata": {
            "tags": []
          }
        }
      ]
    },
    {
      "cell_type": "code",
      "metadata": {
        "id": "0p1FGWEAesow",
        "colab_type": "code",
        "colab": {}
      },
      "source": [
        "predictions = deep_classifier.predict(X_test)\n",
        "predictions = (predictions > 0.5)"
      ],
      "execution_count": 478,
      "outputs": []
    },
    {
      "cell_type": "code",
      "metadata": {
        "id": "ltr7IQU6esnT",
        "colab_type": "code",
        "colab": {
          "base_uri": "https://localhost:8080/",
          "height": 84
        },
        "outputId": "865a719b-bb7c-4bbb-bd8f-52c12059c71a"
      },
      "source": [
        "print(\"Confusion Matrix for the model : \\n\")\n",
        "print(confusion_matrix(y_test, predictions))"
      ],
      "execution_count": 479,
      "outputs": [
        {
          "output_type": "stream",
          "text": [
            "Confusion Matrix for the model : \n",
            "\n",
            "[[3369   67]\n",
            " [  93  971]]\n"
          ],
          "name": "stdout"
        }
      ]
    },
    {
      "cell_type": "code",
      "metadata": {
        "id": "DEkENrJVesjl",
        "colab_type": "code",
        "colab": {
          "base_uri": "https://localhost:8080/",
          "height": 202
        },
        "outputId": "40328ce3-ebee-4896-cb63-f33a8a08b712"
      },
      "source": [
        "print(\"Classification Report of model : \\n\")\n",
        "print(classification_report(y_test, predictions))"
      ],
      "execution_count": 480,
      "outputs": [
        {
          "output_type": "stream",
          "text": [
            "Classification Report of model : \n",
            "\n",
            "              precision    recall  f1-score   support\n",
            "\n",
            "           0       0.97      0.98      0.98      3436\n",
            "           1       0.94      0.91      0.92      1064\n",
            "\n",
            "    accuracy                           0.96      4500\n",
            "   macro avg       0.95      0.95      0.95      4500\n",
            "weighted avg       0.96      0.96      0.96      4500\n",
            "\n"
          ],
          "name": "stdout"
        }
      ]
    },
    {
      "cell_type": "code",
      "metadata": {
        "id": "EjFqSp2oesiH",
        "colab_type": "code",
        "colab": {}
      },
      "source": [
        "# Random Forest Classifier provides highest accuracy : 98.67%\n",
        "# Deep Learning classifier provides decent accuracy : 96.44%"
      ],
      "execution_count": 481,
      "outputs": []
    },
    {
      "cell_type": "code",
      "metadata": {
        "id": "6MXkv0QFeseI",
        "colab_type": "code",
        "colab": {}
      },
      "source": [
        ""
      ],
      "execution_count": 481,
      "outputs": []
    },
    {
      "cell_type": "code",
      "metadata": {
        "id": "oX9YWxAWesci",
        "colab_type": "code",
        "colab": {}
      },
      "source": [
        ""
      ],
      "execution_count": 481,
      "outputs": []
    },
    {
      "cell_type": "code",
      "metadata": {
        "id": "1whpQ9G4esYQ",
        "colab_type": "code",
        "colab": {}
      },
      "source": [
        ""
      ],
      "execution_count": 481,
      "outputs": []
    },
    {
      "cell_type": "code",
      "metadata": {
        "id": "IWxU0tOnesWu",
        "colab_type": "code",
        "colab": {}
      },
      "source": [
        ""
      ],
      "execution_count": 481,
      "outputs": []
    },
    {
      "cell_type": "code",
      "metadata": {
        "id": "O-lJx99SesTG",
        "colab_type": "code",
        "colab": {}
      },
      "source": [
        ""
      ],
      "execution_count": 481,
      "outputs": []
    },
    {
      "cell_type": "code",
      "metadata": {
        "id": "mv7cBH5IesRx",
        "colab_type": "code",
        "colab": {}
      },
      "source": [
        ""
      ],
      "execution_count": 481,
      "outputs": []
    },
    {
      "cell_type": "code",
      "metadata": {
        "id": "nTz--cCJesPA",
        "colab_type": "code",
        "colab": {}
      },
      "source": [
        ""
      ],
      "execution_count": 481,
      "outputs": []
    },
    {
      "cell_type": "code",
      "metadata": {
        "id": "g-VPV_tyesNV",
        "colab_type": "code",
        "colab": {}
      },
      "source": [
        ""
      ],
      "execution_count": 481,
      "outputs": []
    },
    {
      "cell_type": "code",
      "metadata": {
        "id": "ao_usj-TesIS",
        "colab_type": "code",
        "colab": {}
      },
      "source": [
        ""
      ],
      "execution_count": 481,
      "outputs": []
    }
  ]
}